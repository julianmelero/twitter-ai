{
 "cells": [
  {
   "cell_type": "code",
   "execution_count": 1,
   "metadata": {},
   "outputs": [],
   "source": [
    "import pandas as pd"
   ]
  },
  {
   "cell_type": "code",
   "execution_count": 2,
   "metadata": {},
   "outputs": [
    {
     "name": "stderr",
     "output_type": "stream",
     "text": [
      "/home/julianmelero/twitter-ai/twai/lib/python3.8/site-packages/IPython/core/interactiveshell.py:3457: DtypeWarning: Columns (5) have mixed types.Specify dtype option on import or set low_memory=False.\n",
      "  exec(code_obj, self.user_global_ns, self.user_ns)\n",
      "/home/julianmelero/twitter-ai/twai/lib/python3.8/site-packages/IPython/core/interactiveshell.py:3457: DtypeWarning: Columns (23) have mixed types.Specify dtype option on import or set low_memory=False.\n",
      "  exec(code_obj, self.user_global_ns, self.user_ns)\n"
     ]
    }
   ],
   "source": [
    "headers = pd.read_csv('../Data/handles-data.csv')\n",
    "tweets = pd.read_csv('../Data/tweets-data.csv')\n",
    "union = pd.read_csv('../Data/union.csv', sep=\";\")\n",
    "pd.options.display.float_format = '{:.2f}'.format"
   ]
  },
  {
   "cell_type": "markdown",
   "metadata": {},
   "source": [
    "# Target"
   ]
  },
  {
   "cell_type": "markdown",
   "metadata": {},
   "source": [
    "El target de nuestro proyecto va a ser el campo **nretweets** (número de Retweets).\n",
    "\n",
    "He decidido usar este campo por su posible valor para conocer si el tuit va a tener la repercusión deseada o no.\n",
    "\n",
    "He llegado a este conclusión después de ver cómo se comporta dependiendo de la hora y del día de la semana. Aunque no existen variaciones muy grandes, sí que he podido comprobar que ciertas horas y ciertos días hay más inteacción dentro de la red social.\n",
    "Donde se puede ver que los usuarios dan más a me gusta y retuitean. Por lo que seguramente exista un patrón en los datos, dado un patrón de conducta humana. Por ejemplo, en las horas de \"sueño\" existe menos interacción.\n",
    "\n"
   ]
  },
  {
   "cell_type": "markdown",
   "metadata": {},
   "source": [
    "# Limpieza de los Datos"
   ]
  },
  {
   "cell_type": "markdown",
   "metadata": {},
   "source": [
    "## No interesantes"
   ]
  },
  {
   "cell_type": "code",
   "execution_count": 6,
   "metadata": {},
   "outputs": [
    {
     "name": "stdout",
     "output_type": "stream",
     "text": [
      "['id', 'conversation_id', 'created_at', 'date', 'timezone', 'place', 'tweet', 'language', 'hashtags', 'cashtags', 'user_id', 'user_id_str', 'username', 'name', 'day', 'hour', 'link', 'urls', 'photos', 'video', 'thumbnail', 'retweet', 'nlikes', 'nreplies', 'nretweets', 'quote_url', 'search', 'near', 'geo', 'source', 'user_rt_id', 'user_rt', 'retweet_id', 'reply_to', 'retweet_date', 'translate', 'trans_src', 'trans_dest']\n"
     ]
    }
   ],
   "source": [
    "print(tweets.columns.tolist())"
   ]
  },
  {
   "cell_type": "markdown",
   "metadata": {},
   "source": [
    "## Nulos"
   ]
  },
  {
   "cell_type": "code",
   "execution_count": 4,
   "metadata": {},
   "outputs": [
    {
     "data": {
      "text/plain": [
       "id_x                    0\n",
       "name_x                  0\n",
       "username                0\n",
       "bio                   570\n",
       "url                  3173\n",
       "join_datetime           0\n",
       "join_date               0\n",
       "join_time               0\n",
       "tweets                  0\n",
       "location            11802\n",
       "following               0\n",
       "followers               0\n",
       "likes                   0\n",
       "media                   0\n",
       "private                 0\n",
       "verified                0\n",
       "avatar                  0\n",
       "background_image      366\n",
       "id_y                    0\n",
       "conversation_id         0\n",
       "created_at              0\n",
       "date                    0\n",
       "timezone                0\n",
       "place               40833\n",
       "tweet                   0\n",
       "language                0\n",
       "hashtags                0\n",
       "cashtags                0\n",
       "user_id                 0\n",
       "user_id_str             0\n",
       "name_y                  0\n",
       "day                     0\n",
       "hour                    0\n",
       "link                    0\n",
       "urls                    0\n",
       "photos                  0\n",
       "video                   0\n",
       "thumbnail           31644\n",
       "retweet                 0\n",
       "nlikes                  0\n",
       "nreplies                0\n",
       "nretweets               0\n",
       "quote_url               0\n",
       "search                  0\n",
       "near                40867\n",
       "geo                 40867\n",
       "source              40867\n",
       "user_rt_id          34685\n",
       "user_rt             34685\n",
       "retweet_id          34685\n",
       "reply_to                0\n",
       "retweet_date        34685\n",
       "translate           40867\n",
       "trans_src           40867\n",
       "trans_dest          40867\n",
       "dtype: int64"
      ]
     },
     "execution_count": 4,
     "metadata": {},
     "output_type": "execute_result"
    }
   ],
   "source": [
    "union.isnull().sum()"
   ]
  }
 ],
 "metadata": {
  "interpreter": {
   "hash": "7eafb698222e0ee7bfbc898e0da8391238ce73a0bc4ad3e20f3708b8771ba4ae"
  },
  "kernelspec": {
   "display_name": "Python 3.8.10 64-bit ('twai': venv)",
   "language": "python",
   "name": "python3"
  },
  "language_info": {
   "codemirror_mode": {
    "name": "ipython",
    "version": 3
   },
   "file_extension": ".py",
   "mimetype": "text/x-python",
   "name": "python",
   "nbconvert_exporter": "python",
   "pygments_lexer": "ipython3",
   "version": "3.8.10"
  },
  "orig_nbformat": 4
 },
 "nbformat": 4,
 "nbformat_minor": 2
}
