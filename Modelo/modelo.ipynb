{
 "cells": [
  {
   "cell_type": "code",
   "execution_count": 1,
   "metadata": {},
   "outputs": [],
   "source": [
    "import pandas as pd"
   ]
  },
  {
   "cell_type": "code",
   "execution_count": 2,
   "metadata": {},
   "outputs": [
    {
     "name": "stderr",
     "output_type": "stream",
     "text": [
      "/home/julianmelero/twitter-ai/twai/lib/python3.8/site-packages/IPython/core/interactiveshell.py:3457: DtypeWarning: Columns (5) have mixed types.Specify dtype option on import or set low_memory=False.\n",
      "  exec(code_obj, self.user_global_ns, self.user_ns)\n",
      "/home/julianmelero/twitter-ai/twai/lib/python3.8/site-packages/IPython/core/interactiveshell.py:3457: DtypeWarning: Columns (23) have mixed types.Specify dtype option on import or set low_memory=False.\n",
      "  exec(code_obj, self.user_global_ns, self.user_ns)\n"
     ]
    }
   ],
   "source": [
    "headers = pd.read_csv('../Data/handles-data.csv')\n",
    "tweets = pd.read_csv('../Data/tweets-data.csv')\n",
    "union = pd.read_csv('../Data/union.csv', sep=\";\")\n",
    "pd.options.display.float_format = '{:.2f}'.format"
   ]
  },
  {
   "cell_type": "markdown",
   "metadata": {},
   "source": [
    "# Target"
   ]
  },
  {
   "cell_type": "markdown",
   "metadata": {},
   "source": [
    "El target de nuestro proyecto va a ser el campo **nretweets** (número de Retweets).\n",
    "\n",
    "He decidido usar este campo por su posible valor para conocer si el tuit va a tener la repercusión deseada o no.\n",
    "\n",
    "He llegado a este conclusión después de ver cómo se comporta dependiendo de la hora y del día de la semana. Aunque no existen variaciones muy grandes, sí que he podido comprobar que ciertas horas y ciertos días hay más inteacción dentro de la red social.\n",
    "Donde se puede ver que los usuarios dan más a me gusta y retuitean. Por lo que seguramente exista un patrón en los datos, dado un patrón de conducta humana. Por ejemplo, en las horas de \"sueño\" existe menos interacción.\n",
    "\n"
   ]
  },
  {
   "cell_type": "markdown",
   "metadata": {},
   "source": [
    "# Limpieza de los Datos"
   ]
  },
  {
   "cell_type": "markdown",
   "metadata": {},
   "source": [
    "## Eliminar No interesantes"
   ]
  },
  {
   "cell_type": "code",
   "execution_count": 6,
   "metadata": {},
   "outputs": [
    {
     "name": "stdout",
     "output_type": "stream",
     "text": [
      "['id', 'conversation_id', 'created_at', 'date', 'timezone', 'place', 'tweet', 'language', 'hashtags', 'cashtags', 'user_id', 'user_id_str', 'username', 'name', 'day', 'hour', 'link', 'urls', 'photos', 'video', 'thumbnail', 'retweet', 'nlikes', 'nreplies', 'nretweets', 'quote_url', 'search', 'near', 'geo', 'source', 'user_rt_id', 'user_rt', 'retweet_id', 'reply_to', 'retweet_date', 'translate', 'trans_src', 'trans_dest']\n"
     ]
    }
   ],
   "source": [
    "print(tweets.columns.tolist())"
   ]
  },
  {
   "cell_type": "code",
   "execution_count": 123,
   "metadata": {},
   "outputs": [
    {
     "name": "stdout",
     "output_type": "stream",
     "text": [
      "day         40867\n",
      "hour        40867\n",
      "retweet     40867\n",
      "nreplies    40867\n",
      "nlikes      40867\n",
      "dtype: int64\n",
      "nretweets    40867\n",
      "dtype: int64\n"
     ]
    }
   ],
   "source": [
    "datosInteresantes = union[['day','hour','retweet','nreplies','nlikes']]\n",
    "target = union[['nretweets']]\n",
    "print(datosInteresantes.count())\n",
    "print(target.count())"
   ]
  },
  {
   "cell_type": "markdown",
   "metadata": {},
   "source": [
    "### Nulos"
   ]
  },
  {
   "cell_type": "code",
   "execution_count": 43,
   "metadata": {},
   "outputs": [
    {
     "data": {
      "text/plain": [
       "day         0\n",
       "hour        0\n",
       "retweet     0\n",
       "nreplies    0\n",
       "nlikes      0\n",
       "dtype: int64"
      ]
     },
     "execution_count": 43,
     "metadata": {},
     "output_type": "execute_result"
    }
   ],
   "source": [
    "datosInteresantes.isnull().sum()"
   ]
  },
  {
   "cell_type": "markdown",
   "metadata": {},
   "source": [
    "### Separamos datos categóricos"
   ]
  },
  {
   "cell_type": "code",
   "execution_count": 124,
   "metadata": {},
   "outputs": [
    {
     "data": {
      "text/plain": [
       "day         int64\n",
       "hour        int64\n",
       "retweet      bool\n",
       "nreplies    int64\n",
       "nlikes      int64\n",
       "dtype: object"
      ]
     },
     "execution_count": 124,
     "metadata": {},
     "output_type": "execute_result"
    }
   ],
   "source": [
    "datosInteresantes.dtypes"
   ]
  },
  {
   "cell_type": "markdown",
   "metadata": {},
   "source": [
    "El campo retweet es categórico (Verdadero o Falso)"
   ]
  },
  {
   "cell_type": "code",
   "execution_count": 129,
   "metadata": {},
   "outputs": [
    {
     "data": {
      "text/plain": [
       "0         True\n",
       "1        False\n",
       "2         True\n",
       "3        False\n",
       "4        False\n",
       "         ...  \n",
       "40862    False\n",
       "40863    False\n",
       "40864    False\n",
       "40865    False\n",
       "40866    False\n",
       "Name: retweet, Length: 40867, dtype: bool"
      ]
     },
     "execution_count": 129,
     "metadata": {},
     "output_type": "execute_result"
    }
   ],
   "source": [
    "datosInteresantes['retweet']"
   ]
  },
  {
   "cell_type": "code",
   "execution_count": 126,
   "metadata": {},
   "outputs": [],
   "source": [
    "from sklearn.preprocessing import OneHotEncoder"
   ]
  },
  {
   "cell_type": "code",
   "execution_count": 152,
   "metadata": {},
   "outputs": [
    {
     "data": {
      "text/plain": [
       "OneHotEncoder()"
      ]
     },
     "execution_count": 152,
     "metadata": {},
     "output_type": "execute_result"
    }
   ],
   "source": [
    "df_c = datosInteresantes.copy(deep = True)\n",
    "enc_ohe = OneHotEncoder()\n",
    "enc_ohe.fit(df_c[[\"retweet\"]])"
   ]
  },
  {
   "cell_type": "code",
   "execution_count": 153,
   "metadata": {},
   "outputs": [
    {
     "name": "stdout",
     "output_type": "stream",
     "text": [
      "[[0. 1.]\n",
      " [1. 0.]\n",
      " [0. 1.]\n",
      " ...\n",
      " [1. 0.]\n",
      " [1. 0.]\n",
      " [1. 0.]]\n"
     ]
    }
   ],
   "source": [
    "data_encoder = enc_ohe.transform(df_c[['retweet']]).toarray()\n",
    "print(data_encoder)"
   ]
  },
  {
   "cell_type": "markdown",
   "metadata": {},
   "source": [
    "Lo unimos al dataset"
   ]
  },
  {
   "cell_type": "code",
   "execution_count": 154,
   "metadata": {},
   "outputs": [],
   "source": [
    "df_encoder = pd.DataFrame(data_encoder)\n",
    "df_encoder.head()\n",
    "df_c = df_c.join(df_encoder,lsuffix='_left', rsuffix='_right')\n",
    "df_c.drop(['retweet'], axis=1, inplace=True)\n"
   ]
  },
  {
   "cell_type": "code",
   "execution_count": 155,
   "metadata": {},
   "outputs": [
    {
     "data": {
      "text/html": [
       "<div>\n",
       "<style scoped>\n",
       "    .dataframe tbody tr th:only-of-type {\n",
       "        vertical-align: middle;\n",
       "    }\n",
       "\n",
       "    .dataframe tbody tr th {\n",
       "        vertical-align: top;\n",
       "    }\n",
       "\n",
       "    .dataframe thead th {\n",
       "        text-align: right;\n",
       "    }\n",
       "</style>\n",
       "<table border=\"1\" class=\"dataframe\">\n",
       "  <thead>\n",
       "    <tr style=\"text-align: right;\">\n",
       "      <th></th>\n",
       "      <th>day</th>\n",
       "      <th>hour</th>\n",
       "      <th>nreplies</th>\n",
       "      <th>nlikes</th>\n",
       "      <th>0</th>\n",
       "      <th>1</th>\n",
       "    </tr>\n",
       "  </thead>\n",
       "  <tbody>\n",
       "    <tr>\n",
       "      <th>0</th>\n",
       "      <td>4</td>\n",
       "      <td>0</td>\n",
       "      <td>0</td>\n",
       "      <td>0</td>\n",
       "      <td>0.00</td>\n",
       "      <td>1.00</td>\n",
       "    </tr>\n",
       "    <tr>\n",
       "      <th>1</th>\n",
       "      <td>2</td>\n",
       "      <td>22</td>\n",
       "      <td>368</td>\n",
       "      <td>5266</td>\n",
       "      <td>1.00</td>\n",
       "      <td>0.00</td>\n",
       "    </tr>\n",
       "    <tr>\n",
       "      <th>2</th>\n",
       "      <td>2</td>\n",
       "      <td>18</td>\n",
       "      <td>0</td>\n",
       "      <td>0</td>\n",
       "      <td>0.00</td>\n",
       "      <td>1.00</td>\n",
       "    </tr>\n",
       "    <tr>\n",
       "      <th>3</th>\n",
       "      <td>2</td>\n",
       "      <td>18</td>\n",
       "      <td>476</td>\n",
       "      <td>5638</td>\n",
       "      <td>1.00</td>\n",
       "      <td>0.00</td>\n",
       "    </tr>\n",
       "    <tr>\n",
       "      <th>4</th>\n",
       "      <td>2</td>\n",
       "      <td>7</td>\n",
       "      <td>546</td>\n",
       "      <td>8810</td>\n",
       "      <td>1.00</td>\n",
       "      <td>0.00</td>\n",
       "    </tr>\n",
       "    <tr>\n",
       "      <th>...</th>\n",
       "      <td>...</td>\n",
       "      <td>...</td>\n",
       "      <td>...</td>\n",
       "      <td>...</td>\n",
       "      <td>...</td>\n",
       "      <td>...</td>\n",
       "    </tr>\n",
       "    <tr>\n",
       "      <th>40862</th>\n",
       "      <td>2</td>\n",
       "      <td>13</td>\n",
       "      <td>90</td>\n",
       "      <td>961</td>\n",
       "      <td>1.00</td>\n",
       "      <td>0.00</td>\n",
       "    </tr>\n",
       "    <tr>\n",
       "      <th>40863</th>\n",
       "      <td>2</td>\n",
       "      <td>13</td>\n",
       "      <td>12</td>\n",
       "      <td>224</td>\n",
       "      <td>1.00</td>\n",
       "      <td>0.00</td>\n",
       "    </tr>\n",
       "    <tr>\n",
       "      <th>40864</th>\n",
       "      <td>2</td>\n",
       "      <td>13</td>\n",
       "      <td>12</td>\n",
       "      <td>240</td>\n",
       "      <td>1.00</td>\n",
       "      <td>0.00</td>\n",
       "    </tr>\n",
       "    <tr>\n",
       "      <th>40865</th>\n",
       "      <td>2</td>\n",
       "      <td>13</td>\n",
       "      <td>113</td>\n",
       "      <td>1357</td>\n",
       "      <td>1.00</td>\n",
       "      <td>0.00</td>\n",
       "    </tr>\n",
       "    <tr>\n",
       "      <th>40866</th>\n",
       "      <td>1</td>\n",
       "      <td>20</td>\n",
       "      <td>425</td>\n",
       "      <td>4085</td>\n",
       "      <td>1.00</td>\n",
       "      <td>0.00</td>\n",
       "    </tr>\n",
       "  </tbody>\n",
       "</table>\n",
       "<p>40867 rows × 6 columns</p>\n",
       "</div>"
      ],
      "text/plain": [
       "       day  hour  nreplies  nlikes    0    1\n",
       "0        4     0         0       0 0.00 1.00\n",
       "1        2    22       368    5266 1.00 0.00\n",
       "2        2    18         0       0 0.00 1.00\n",
       "3        2    18       476    5638 1.00 0.00\n",
       "4        2     7       546    8810 1.00 0.00\n",
       "...    ...   ...       ...     ...  ...  ...\n",
       "40862    2    13        90     961 1.00 0.00\n",
       "40863    2    13        12     224 1.00 0.00\n",
       "40864    2    13        12     240 1.00 0.00\n",
       "40865    2    13       113    1357 1.00 0.00\n",
       "40866    1    20       425    4085 1.00 0.00\n",
       "\n",
       "[40867 rows x 6 columns]"
      ]
     },
     "execution_count": 155,
     "metadata": {},
     "output_type": "execute_result"
    }
   ],
   "source": [
    "df_c"
   ]
  },
  {
   "cell_type": "markdown",
   "metadata": {},
   "source": [
    "## Separar datos Entrenamiento"
   ]
  },
  {
   "cell_type": "code",
   "execution_count": 38,
   "metadata": {},
   "outputs": [],
   "source": [
    "from sklearn.model_selection import train_test_split"
   ]
  },
  {
   "cell_type": "code",
   "execution_count": 214,
   "metadata": {},
   "outputs": [],
   "source": [
    "X_train, X_test, y_train, y_test = train_test_split(df_c, target, test_size=0.3)"
   ]
  },
  {
   "cell_type": "markdown",
   "metadata": {},
   "source": [
    "## Nulos"
   ]
  },
  {
   "cell_type": "code",
   "execution_count": 200,
   "metadata": {},
   "outputs": [
    {
     "ename": "AttributeError",
     "evalue": "'numpy.ndarray' object has no attribute 'isnull'",
     "output_type": "error",
     "traceback": [
      "\u001b[0;31m---------------------------------------------------------------------------\u001b[0m",
      "\u001b[0;31mAttributeError\u001b[0m                            Traceback (most recent call last)",
      "\u001b[0;32m/tmp/ipykernel_3750/358791704.py\u001b[0m in \u001b[0;36m<module>\u001b[0;34m\u001b[0m\n\u001b[0;32m----> 1\u001b[0;31m \u001b[0mX_train\u001b[0m\u001b[0;34m.\u001b[0m\u001b[0misnull\u001b[0m\u001b[0;34m(\u001b[0m\u001b[0;34m)\u001b[0m\u001b[0;34m.\u001b[0m\u001b[0msum\u001b[0m\u001b[0;34m(\u001b[0m\u001b[0;34m)\u001b[0m\u001b[0;34m\u001b[0m\u001b[0;34m\u001b[0m\u001b[0m\n\u001b[0m",
      "\u001b[0;31mAttributeError\u001b[0m: 'numpy.ndarray' object has no attribute 'isnull'"
     ]
    }
   ],
   "source": [
    "X_train.isnull().sum()"
   ]
  },
  {
   "cell_type": "markdown",
   "metadata": {},
   "source": [
    "# Entrenar Modelo"
   ]
  },
  {
   "cell_type": "code",
   "execution_count": 61,
   "metadata": {},
   "outputs": [],
   "source": [
    "import tensorflow as tf\n",
    "from keras.models import Sequential\n",
    "from keras.layers import Dense\n",
    "import numpy as np"
   ]
  },
  {
   "cell_type": "code",
   "execution_count": 249,
   "metadata": {},
   "outputs": [],
   "source": [
    "np.random.seed(5)\n",
    "tf.random.set_seed(5)"
   ]
  },
  {
   "cell_type": "code",
   "execution_count": 241,
   "metadata": {},
   "outputs": [],
   "source": [
    "model=Sequential()\n",
    "model.add(Dense(30, activation='relu',input_dim=6))\n",
    "model.add(Dense(35, activation='relu'))\n",
    "model.add(Dense(35, activation='relu'))\n",
    "model.add(Dense(25, activation='relu'))\n",
    "model.add(Dense(1, activation='sigmoid'))\n",
    "model.compile(loss='mean_squared_error')"
   ]
  },
  {
   "cell_type": "code",
   "execution_count": 250,
   "metadata": {},
   "outputs": [],
   "source": [
    "X_train = np.asarray(X_train).astype(np.int64)"
   ]
  },
  {
   "cell_type": "code",
   "execution_count": 316,
   "metadata": {},
   "outputs": [
    {
     "name": "stdout",
     "output_type": "stream",
     "text": [
      "Epoch 1/55\n",
      "894/894 [==============================] - 1s 716us/step - loss: 30306018.0000\n",
      "Epoch 2/55\n",
      "894/894 [==============================] - 1s 706us/step - loss: 30306020.0000\n",
      "Epoch 3/55\n",
      "894/894 [==============================] - 1s 700us/step - loss: 30306028.0000\n",
      "Epoch 4/55\n",
      "894/894 [==============================] - 1s 709us/step - loss: 30306056.0000\n",
      "Epoch 5/55\n",
      "894/894 [==============================] - 1s 707us/step - loss: 30306056.0000\n",
      "Epoch 6/55\n",
      "894/894 [==============================] - 1s 793us/step - loss: 30306024.0000\n",
      "Epoch 7/55\n",
      "894/894 [==============================] - 1s 706us/step - loss: 30306022.0000\n",
      "Epoch 8/55\n",
      "894/894 [==============================] - 1s 706us/step - loss: 30306026.0000\n",
      "Epoch 9/55\n",
      "894/894 [==============================] - 1s 704us/step - loss: 30306024.0000\n",
      "Epoch 10/55\n",
      "894/894 [==============================] - 1s 706us/step - loss: 30306026.0000\n",
      "Epoch 11/55\n",
      "894/894 [==============================] - 1s 718us/step - loss: 30306038.0000\n",
      "Epoch 12/55\n",
      "894/894 [==============================] - 1s 725us/step - loss: 30306034.0000\n",
      "Epoch 13/55\n",
      "894/894 [==============================] - 1s 724us/step - loss: 30306022.0000\n",
      "Epoch 14/55\n",
      "894/894 [==============================] - 1s 727us/step - loss: 30306054.0000\n",
      "Epoch 15/55\n",
      "894/894 [==============================] - 1s 763us/step - loss: 30306028.0000\n",
      "Epoch 16/55\n",
      "894/894 [==============================] - 1s 747us/step - loss: 30306040.0000\n",
      "Epoch 17/55\n",
      "894/894 [==============================] - 1s 752us/step - loss: 30306038.0000\n",
      "Epoch 18/55\n",
      "894/894 [==============================] - 1s 727us/step - loss: 30306022.0000\n",
      "Epoch 19/55\n",
      "894/894 [==============================] - 1s 718us/step - loss: 30306034.0000\n",
      "Epoch 20/55\n",
      "894/894 [==============================] - 1s 718us/step - loss: 30306024.0000\n",
      "Epoch 21/55\n",
      "894/894 [==============================] - 1s 720us/step - loss: 30306040.0000\n",
      "Epoch 22/55\n",
      "894/894 [==============================] - 1s 718us/step - loss: 30306064.0000\n",
      "Epoch 23/55\n",
      "894/894 [==============================] - 1s 710us/step - loss: 30306020.0000\n",
      "Epoch 24/55\n",
      "894/894 [==============================] - 1s 733us/step - loss: 30306024.0000\n",
      "Epoch 25/55\n",
      "894/894 [==============================] - 1s 744us/step - loss: 30306026.0000\n",
      "Epoch 26/55\n",
      "894/894 [==============================] - 1s 819us/step - loss: 30306032.0000\n",
      "Epoch 27/55\n",
      "894/894 [==============================] - 1s 726us/step - loss: 30306066.0000\n",
      "Epoch 28/55\n",
      "894/894 [==============================] - 1s 728us/step - loss: 30306040.0000\n",
      "Epoch 29/55\n",
      "894/894 [==============================] - 1s 717us/step - loss: 30306038.0000\n",
      "Epoch 30/55\n",
      "894/894 [==============================] - 1s 740us/step - loss: 30306022.0000\n",
      "Epoch 31/55\n",
      "894/894 [==============================] - 1s 716us/step - loss: 30306010.0000\n",
      "Epoch 32/55\n",
      "894/894 [==============================] - 1s 717us/step - loss: 30306018.0000\n",
      "Epoch 33/55\n",
      "894/894 [==============================] - 1s 711us/step - loss: 30306016.0000\n",
      "Epoch 34/55\n",
      "894/894 [==============================] - 1s 708us/step - loss: 30306028.0000\n",
      "Epoch 35/55\n",
      "894/894 [==============================] - 1s 713us/step - loss: 30306018.0000\n",
      "Epoch 36/55\n",
      "894/894 [==============================] - 1s 696us/step - loss: 30306034.0000\n",
      "Epoch 37/55\n",
      "894/894 [==============================] - 1s 696us/step - loss: 30306032.0000\n",
      "Epoch 38/55\n",
      "894/894 [==============================] - 1s 775us/step - loss: 30306022.0000\n",
      "Epoch 39/55\n",
      "894/894 [==============================] - 1s 693us/step - loss: 30306054.0000\n",
      "Epoch 40/55\n",
      "894/894 [==============================] - 1s 693us/step - loss: 30306026.0000\n",
      "Epoch 41/55\n",
      "894/894 [==============================] - 1s 694us/step - loss: 30306028.0000\n",
      "Epoch 42/55\n",
      "894/894 [==============================] - 1s 692us/step - loss: 30306028.0000\n",
      "Epoch 43/55\n",
      "894/894 [==============================] - 1s 693us/step - loss: 30306042.0000\n",
      "Epoch 44/55\n",
      "894/894 [==============================] - 1s 700us/step - loss: 30306036.0000\n",
      "Epoch 45/55\n",
      "894/894 [==============================] - 1s 743us/step - loss: 30306048.0000\n",
      "Epoch 46/55\n",
      "894/894 [==============================] - 1s 722us/step - loss: 30306034.0000\n",
      "Epoch 47/55\n",
      "894/894 [==============================] - 1s 726us/step - loss: 30306018.0000\n",
      "Epoch 48/55\n",
      "894/894 [==============================] - 1s 710us/step - loss: 30306024.0000\n",
      "Epoch 49/55\n",
      "894/894 [==============================] - 1s 708us/step - loss: 30306058.0000\n",
      "Epoch 50/55\n",
      "894/894 [==============================] - 1s 717us/step - loss: 30306026.0000\n",
      "Epoch 51/55\n",
      "894/894 [==============================] - 1s 716us/step - loss: 30306010.0000\n",
      "Epoch 52/55\n",
      "894/894 [==============================] - 1s 710us/step - loss: 30306042.0000\n",
      "Epoch 53/55\n",
      "894/894 [==============================] - 1s 739us/step - loss: 30306032.0000\n",
      "Epoch 54/55\n",
      "894/894 [==============================] - 1s 700us/step - loss: 30306024.0000\n",
      "Epoch 55/55\n",
      "894/894 [==============================] - 1s 691us/step - loss: 30306028.0000\n"
     ]
    },
    {
     "data": {
      "text/plain": [
       "<keras.callbacks.History at 0x7f4848fedf40>"
      ]
     },
     "execution_count": 316,
     "metadata": {},
     "output_type": "execute_result"
    }
   ],
   "source": [
    "model.fit(X_train, y_train,epochs=55) "
   ]
  },
  {
   "cell_type": "code",
   "execution_count": 365,
   "metadata": {},
   "outputs": [
    {
     "name": "stdout",
     "output_type": "stream",
     "text": [
      "[[3.0421467e-07]]\n"
     ]
    }
   ],
   "source": [
    "# día,hora,nreplies,nlikes,0_retweet,1_retweet\n",
    "print(model.predict([[7,3,0,0,1,0]]))"
   ]
  }
 ],
 "metadata": {
  "interpreter": {
   "hash": "7eafb698222e0ee7bfbc898e0da8391238ce73a0bc4ad3e20f3708b8771ba4ae"
  },
  "kernelspec": {
   "display_name": "Python 3.8.10 64-bit ('twai': venv)",
   "language": "python",
   "name": "python3"
  },
  "language_info": {
   "codemirror_mode": {
    "name": "ipython",
    "version": 3
   },
   "file_extension": ".py",
   "mimetype": "text/x-python",
   "name": "python",
   "nbconvert_exporter": "python",
   "pygments_lexer": "ipython3",
   "version": "3.8.10"
  },
  "orig_nbformat": 4
 },
 "nbformat": 4,
 "nbformat_minor": 2
}
