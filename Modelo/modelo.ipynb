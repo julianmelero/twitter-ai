{
 "cells": [
  {
   "cell_type": "code",
   "execution_count": 1,
   "metadata": {},
   "outputs": [],
   "source": [
    "import pandas as pd"
   ]
  },
  {
   "cell_type": "code",
   "execution_count": 2,
   "metadata": {},
   "outputs": [
    {
     "name": "stderr",
     "output_type": "stream",
     "text": [
      "/home/julianmelero/twitter-ai/twai/lib/python3.8/site-packages/IPython/core/interactiveshell.py:3457: DtypeWarning: Columns (5) have mixed types.Specify dtype option on import or set low_memory=False.\n",
      "  exec(code_obj, self.user_global_ns, self.user_ns)\n",
      "/home/julianmelero/twitter-ai/twai/lib/python3.8/site-packages/IPython/core/interactiveshell.py:3457: DtypeWarning: Columns (23) have mixed types.Specify dtype option on import or set low_memory=False.\n",
      "  exec(code_obj, self.user_global_ns, self.user_ns)\n"
     ]
    }
   ],
   "source": [
    "headers = pd.read_csv('../Data/handles-data.csv')\n",
    "tweets = pd.read_csv('../Data/tweets-data.csv')\n",
    "union = pd.read_csv('../Data/union.csv', sep=\";\")\n",
    "pd.options.display.float_format = '{:.2f}'.format"
   ]
  },
  {
   "cell_type": "markdown",
   "metadata": {},
   "source": [
    "# Target"
   ]
  },
  {
   "cell_type": "markdown",
   "metadata": {},
   "source": [
    "El target de nuestro proyecto va a ser el campo **nretweets** (número de Retweets).\n",
    "\n",
    "He decidido usar este campo por su posible valor para conocer si el tuit va a tener la repercusión deseada o no.\n",
    "\n",
    "He llegado a este conclusión después de ver cómo se comporta dependiendo de la hora y del día de la semana. Aunque no existen variaciones muy grandes, sí que he podido comprobar que ciertas horas y ciertos días hay más inteacción dentro de la red social.\n",
    "Donde se puede ver que los usuarios dan más a me gusta y retuitean. Por lo que seguramente exista un patrón en los datos, dado un patrón de conducta humana. Por ejemplo, en las horas de \"sueño\" existe menos interacción.\n",
    "\n"
   ]
  },
  {
   "cell_type": "markdown",
   "metadata": {},
   "source": [
    "# Limpieza de los Datos"
   ]
  },
  {
   "cell_type": "markdown",
   "metadata": {},
   "source": [
    "## Eliminar No interesantes"
   ]
  },
  {
   "cell_type": "code",
   "execution_count": 6,
   "metadata": {},
   "outputs": [
    {
     "name": "stdout",
     "output_type": "stream",
     "text": [
      "['id', 'conversation_id', 'created_at', 'date', 'timezone', 'place', 'tweet', 'language', 'hashtags', 'cashtags', 'user_id', 'user_id_str', 'username', 'name', 'day', 'hour', 'link', 'urls', 'photos', 'video', 'thumbnail', 'retweet', 'nlikes', 'nreplies', 'nretweets', 'quote_url', 'search', 'near', 'geo', 'source', 'user_rt_id', 'user_rt', 'retweet_id', 'reply_to', 'retweet_date', 'translate', 'trans_src', 'trans_dest']\n"
     ]
    }
   ],
   "source": [
    "print(tweets.columns.tolist())"
   ]
  },
  {
   "cell_type": "code",
   "execution_count": 123,
   "metadata": {},
   "outputs": [
    {
     "name": "stdout",
     "output_type": "stream",
     "text": [
      "day         40867\n",
      "hour        40867\n",
      "retweet     40867\n",
      "nreplies    40867\n",
      "nlikes      40867\n",
      "dtype: int64\n",
      "nretweets    40867\n",
      "dtype: int64\n"
     ]
    }
   ],
   "source": [
    "datosInteresantes = union[['day','hour','retweet','nreplies','nlikes']]\n",
    "target = union[['nretweets']]\n",
    "print(datosInteresantes.count())\n",
    "print(target.count())"
   ]
  },
  {
   "cell_type": "markdown",
   "metadata": {},
   "source": [
    "### Nulos"
   ]
  },
  {
   "cell_type": "code",
   "execution_count": 43,
   "metadata": {},
   "outputs": [
    {
     "data": {
      "text/plain": [
       "day         0\n",
       "hour        0\n",
       "retweet     0\n",
       "nreplies    0\n",
       "nlikes      0\n",
       "dtype: int64"
      ]
     },
     "execution_count": 43,
     "metadata": {},
     "output_type": "execute_result"
    }
   ],
   "source": [
    "datosInteresantes.isnull().sum()"
   ]
  },
  {
   "cell_type": "markdown",
   "metadata": {},
   "source": [
    "### Separamos datos categóricos"
   ]
  },
  {
   "cell_type": "code",
   "execution_count": 124,
   "metadata": {},
   "outputs": [
    {
     "data": {
      "text/plain": [
       "day         int64\n",
       "hour        int64\n",
       "retweet      bool\n",
       "nreplies    int64\n",
       "nlikes      int64\n",
       "dtype: object"
      ]
     },
     "execution_count": 124,
     "metadata": {},
     "output_type": "execute_result"
    }
   ],
   "source": [
    "datosInteresantes.dtypes"
   ]
  },
  {
   "cell_type": "markdown",
   "metadata": {},
   "source": [
    "El campo retweet es categórico (Verdadero o Falso)"
   ]
  },
  {
   "cell_type": "code",
   "execution_count": 129,
   "metadata": {},
   "outputs": [
    {
     "data": {
      "text/plain": [
       "0         True\n",
       "1        False\n",
       "2         True\n",
       "3        False\n",
       "4        False\n",
       "         ...  \n",
       "40862    False\n",
       "40863    False\n",
       "40864    False\n",
       "40865    False\n",
       "40866    False\n",
       "Name: retweet, Length: 40867, dtype: bool"
      ]
     },
     "execution_count": 129,
     "metadata": {},
     "output_type": "execute_result"
    }
   ],
   "source": [
    "datosInteresantes['retweet']"
   ]
  },
  {
   "cell_type": "code",
   "execution_count": 126,
   "metadata": {},
   "outputs": [],
   "source": [
    "from sklearn.preprocessing import OneHotEncoder"
   ]
  },
  {
   "cell_type": "code",
   "execution_count": 152,
   "metadata": {},
   "outputs": [
    {
     "data": {
      "text/plain": [
       "OneHotEncoder()"
      ]
     },
     "execution_count": 152,
     "metadata": {},
     "output_type": "execute_result"
    }
   ],
   "source": [
    "df_c = datosInteresantes.copy(deep = True)\n",
    "enc_ohe = OneHotEncoder()\n",
    "enc_ohe.fit(df_c[[\"retweet\"]])"
   ]
  },
  {
   "cell_type": "code",
   "execution_count": 153,
   "metadata": {},
   "outputs": [
    {
     "name": "stdout",
     "output_type": "stream",
     "text": [
      "[[0. 1.]\n",
      " [1. 0.]\n",
      " [0. 1.]\n",
      " ...\n",
      " [1. 0.]\n",
      " [1. 0.]\n",
      " [1. 0.]]\n"
     ]
    }
   ],
   "source": [
    "data_encoder = enc_ohe.transform(df_c[['retweet']]).toarray()\n",
    "print(data_encoder)"
   ]
  },
  {
   "cell_type": "markdown",
   "metadata": {},
   "source": [
    "Lo unimos al dataset"
   ]
  },
  {
   "cell_type": "code",
   "execution_count": 154,
   "metadata": {},
   "outputs": [],
   "source": [
    "df_encoder = pd.DataFrame(data_encoder)\n",
    "df_encoder.head()\n",
    "df_c = df_c.join(df_encoder,lsuffix='_left', rsuffix='_right')\n",
    "df_c.drop(['retweet'], axis=1, inplace=True)\n"
   ]
  },
  {
   "cell_type": "code",
   "execution_count": 155,
   "metadata": {},
   "outputs": [
    {
     "data": {
      "text/html": [
       "<div>\n",
       "<style scoped>\n",
       "    .dataframe tbody tr th:only-of-type {\n",
       "        vertical-align: middle;\n",
       "    }\n",
       "\n",
       "    .dataframe tbody tr th {\n",
       "        vertical-align: top;\n",
       "    }\n",
       "\n",
       "    .dataframe thead th {\n",
       "        text-align: right;\n",
       "    }\n",
       "</style>\n",
       "<table border=\"1\" class=\"dataframe\">\n",
       "  <thead>\n",
       "    <tr style=\"text-align: right;\">\n",
       "      <th></th>\n",
       "      <th>day</th>\n",
       "      <th>hour</th>\n",
       "      <th>nreplies</th>\n",
       "      <th>nlikes</th>\n",
       "      <th>0</th>\n",
       "      <th>1</th>\n",
       "    </tr>\n",
       "  </thead>\n",
       "  <tbody>\n",
       "    <tr>\n",
       "      <th>0</th>\n",
       "      <td>4</td>\n",
       "      <td>0</td>\n",
       "      <td>0</td>\n",
       "      <td>0</td>\n",
       "      <td>0.00</td>\n",
       "      <td>1.00</td>\n",
       "    </tr>\n",
       "    <tr>\n",
       "      <th>1</th>\n",
       "      <td>2</td>\n",
       "      <td>22</td>\n",
       "      <td>368</td>\n",
       "      <td>5266</td>\n",
       "      <td>1.00</td>\n",
       "      <td>0.00</td>\n",
       "    </tr>\n",
       "    <tr>\n",
       "      <th>2</th>\n",
       "      <td>2</td>\n",
       "      <td>18</td>\n",
       "      <td>0</td>\n",
       "      <td>0</td>\n",
       "      <td>0.00</td>\n",
       "      <td>1.00</td>\n",
       "    </tr>\n",
       "    <tr>\n",
       "      <th>3</th>\n",
       "      <td>2</td>\n",
       "      <td>18</td>\n",
       "      <td>476</td>\n",
       "      <td>5638</td>\n",
       "      <td>1.00</td>\n",
       "      <td>0.00</td>\n",
       "    </tr>\n",
       "    <tr>\n",
       "      <th>4</th>\n",
       "      <td>2</td>\n",
       "      <td>7</td>\n",
       "      <td>546</td>\n",
       "      <td>8810</td>\n",
       "      <td>1.00</td>\n",
       "      <td>0.00</td>\n",
       "    </tr>\n",
       "    <tr>\n",
       "      <th>...</th>\n",
       "      <td>...</td>\n",
       "      <td>...</td>\n",
       "      <td>...</td>\n",
       "      <td>...</td>\n",
       "      <td>...</td>\n",
       "      <td>...</td>\n",
       "    </tr>\n",
       "    <tr>\n",
       "      <th>40862</th>\n",
       "      <td>2</td>\n",
       "      <td>13</td>\n",
       "      <td>90</td>\n",
       "      <td>961</td>\n",
       "      <td>1.00</td>\n",
       "      <td>0.00</td>\n",
       "    </tr>\n",
       "    <tr>\n",
       "      <th>40863</th>\n",
       "      <td>2</td>\n",
       "      <td>13</td>\n",
       "      <td>12</td>\n",
       "      <td>224</td>\n",
       "      <td>1.00</td>\n",
       "      <td>0.00</td>\n",
       "    </tr>\n",
       "    <tr>\n",
       "      <th>40864</th>\n",
       "      <td>2</td>\n",
       "      <td>13</td>\n",
       "      <td>12</td>\n",
       "      <td>240</td>\n",
       "      <td>1.00</td>\n",
       "      <td>0.00</td>\n",
       "    </tr>\n",
       "    <tr>\n",
       "      <th>40865</th>\n",
       "      <td>2</td>\n",
       "      <td>13</td>\n",
       "      <td>113</td>\n",
       "      <td>1357</td>\n",
       "      <td>1.00</td>\n",
       "      <td>0.00</td>\n",
       "    </tr>\n",
       "    <tr>\n",
       "      <th>40866</th>\n",
       "      <td>1</td>\n",
       "      <td>20</td>\n",
       "      <td>425</td>\n",
       "      <td>4085</td>\n",
       "      <td>1.00</td>\n",
       "      <td>0.00</td>\n",
       "    </tr>\n",
       "  </tbody>\n",
       "</table>\n",
       "<p>40867 rows × 6 columns</p>\n",
       "</div>"
      ],
      "text/plain": [
       "       day  hour  nreplies  nlikes    0    1\n",
       "0        4     0         0       0 0.00 1.00\n",
       "1        2    22       368    5266 1.00 0.00\n",
       "2        2    18         0       0 0.00 1.00\n",
       "3        2    18       476    5638 1.00 0.00\n",
       "4        2     7       546    8810 1.00 0.00\n",
       "...    ...   ...       ...     ...  ...  ...\n",
       "40862    2    13        90     961 1.00 0.00\n",
       "40863    2    13        12     224 1.00 0.00\n",
       "40864    2    13        12     240 1.00 0.00\n",
       "40865    2    13       113    1357 1.00 0.00\n",
       "40866    1    20       425    4085 1.00 0.00\n",
       "\n",
       "[40867 rows x 6 columns]"
      ]
     },
     "execution_count": 155,
     "metadata": {},
     "output_type": "execute_result"
    }
   ],
   "source": [
    "df_c"
   ]
  },
  {
   "cell_type": "markdown",
   "metadata": {},
   "source": [
    "## Separar datos Entrenamiento"
   ]
  },
  {
   "cell_type": "code",
   "execution_count": 38,
   "metadata": {},
   "outputs": [],
   "source": [
    "from sklearn.model_selection import train_test_split"
   ]
  },
  {
   "cell_type": "code",
   "execution_count": 214,
   "metadata": {},
   "outputs": [],
   "source": [
    "X_train, X_test, y_train, y_test = train_test_split(df_c, target, test_size=0.3)"
   ]
  },
  {
   "cell_type": "markdown",
   "metadata": {},
   "source": [
    "## Nulos"
   ]
  },
  {
   "cell_type": "code",
   "execution_count": 200,
   "metadata": {},
   "outputs": [
    {
     "ename": "AttributeError",
     "evalue": "'numpy.ndarray' object has no attribute 'isnull'",
     "output_type": "error",
     "traceback": [
      "\u001b[0;31m---------------------------------------------------------------------------\u001b[0m",
      "\u001b[0;31mAttributeError\u001b[0m                            Traceback (most recent call last)",
      "\u001b[0;32m/tmp/ipykernel_3750/358791704.py\u001b[0m in \u001b[0;36m<module>\u001b[0;34m\u001b[0m\n\u001b[0;32m----> 1\u001b[0;31m \u001b[0mX_train\u001b[0m\u001b[0;34m.\u001b[0m\u001b[0misnull\u001b[0m\u001b[0;34m(\u001b[0m\u001b[0;34m)\u001b[0m\u001b[0;34m.\u001b[0m\u001b[0msum\u001b[0m\u001b[0;34m(\u001b[0m\u001b[0;34m)\u001b[0m\u001b[0;34m\u001b[0m\u001b[0;34m\u001b[0m\u001b[0m\n\u001b[0m",
      "\u001b[0;31mAttributeError\u001b[0m: 'numpy.ndarray' object has no attribute 'isnull'"
     ]
    }
   ],
   "source": [
    "X_train.isnull().sum()"
   ]
  },
  {
   "cell_type": "markdown",
   "metadata": {},
   "source": [
    "# Entrenar Modelo"
   ]
  },
  {
   "cell_type": "code",
   "execution_count": 61,
   "metadata": {},
   "outputs": [],
   "source": [
    "import tensorflow as tf\n",
    "from keras.models import Sequential\n",
    "from keras.layers import Dense\n",
    "import numpy as np"
   ]
  },
  {
   "cell_type": "code",
   "execution_count": 95,
   "metadata": {},
   "outputs": [],
   "source": [
    "np.random.seed(5)\n",
    "tf.random.set_seed(5)"
   ]
  },
  {
   "cell_type": "code",
   "execution_count": 159,
   "metadata": {},
   "outputs": [],
   "source": [
    "model=Sequential()\n",
    "model.add(Dense(10, activation='relu',input_dim=6))\n",
    "model.add(Dense(12, activation='relu'))\n",
    "model.add(Dense(12, activation='relu'))\n",
    "model.add(Dense(8, activation='relu'))\n",
    "model.add(Dense(1, activation='sigmoid'))\n",
    "model.compile(loss='mean_squared_error')"
   ]
  },
  {
   "cell_type": "code",
   "execution_count": 157,
   "metadata": {},
   "outputs": [],
   "source": [
    "X_train = np.asarray(X_train).astype(np.int64)"
   ]
  },
  {
   "cell_type": "code",
   "execution_count": 160,
   "metadata": {},
   "outputs": [
    {
     "name": "stdout",
     "output_type": "stream",
     "text": [
      "Epoch 1/50\n",
      "894/894 [==============================] - 1s 746us/step - loss: 29885262.0000\n",
      "Epoch 2/50\n",
      "894/894 [==============================] - 1s 729us/step - loss: 29885284.0000\n",
      "Epoch 3/50\n",
      "894/894 [==============================] - 1s 739us/step - loss: 29885286.0000\n",
      "Epoch 4/50\n",
      "894/894 [==============================] - 1s 708us/step - loss: 29885276.0000\n",
      "Epoch 5/50\n",
      "894/894 [==============================] - 1s 702us/step - loss: 29885268.0000\n",
      "Epoch 6/50\n",
      "894/894 [==============================] - 1s 706us/step - loss: 29885304.0000\n",
      "Epoch 7/50\n",
      "894/894 [==============================] - 1s 713us/step - loss: 29885252.0000\n",
      "Epoch 8/50\n",
      "894/894 [==============================] - 1s 711us/step - loss: 29885256.0000\n",
      "Epoch 9/50\n",
      "894/894 [==============================] - 1s 683us/step - loss: 29885272.0000\n",
      "Epoch 10/50\n",
      "894/894 [==============================] - 1s 689us/step - loss: 29885264.0000\n",
      "Epoch 11/50\n",
      "894/894 [==============================] - 1s 681us/step - loss: 29885280.0000\n",
      "Epoch 12/50\n",
      "894/894 [==============================] - 1s 744us/step - loss: 29885286.0000\n",
      "Epoch 13/50\n",
      "894/894 [==============================] - 1s 740us/step - loss: 29885266.0000\n",
      "Epoch 14/50\n",
      "894/894 [==============================] - 1s 729us/step - loss: 29885256.0000\n",
      "Epoch 15/50\n",
      "894/894 [==============================] - 1s 686us/step - loss: 29885248.0000\n",
      "Epoch 16/50\n",
      "894/894 [==============================] - 1s 682us/step - loss: 29885298.0000\n",
      "Epoch 17/50\n",
      "894/894 [==============================] - 1s 681us/step - loss: 29885270.0000\n",
      "Epoch 18/50\n",
      "894/894 [==============================] - 1s 676us/step - loss: 29885286.0000\n",
      "Epoch 19/50\n",
      "894/894 [==============================] - 1s 679us/step - loss: 29885284.0000\n",
      "Epoch 20/50\n",
      "894/894 [==============================] - 1s 684us/step - loss: 29885260.0000\n",
      "Epoch 21/50\n",
      "894/894 [==============================] - 1s 680us/step - loss: 29885252.0000\n",
      "Epoch 22/50\n",
      "894/894 [==============================] - 1s 682us/step - loss: 29885284.0000\n",
      "Epoch 23/50\n",
      "894/894 [==============================] - 1s 673us/step - loss: 29885300.0000\n",
      "Epoch 24/50\n",
      "894/894 [==============================] - 1s 682us/step - loss: 29885256.0000\n",
      "Epoch 25/50\n",
      "894/894 [==============================] - 1s 678us/step - loss: 29885256.0000\n",
      "Epoch 26/50\n",
      "894/894 [==============================] - 1s 667us/step - loss: 29885276.0000\n",
      "Epoch 27/50\n",
      "894/894 [==============================] - 1s 732us/step - loss: 29885264.0000\n",
      "Epoch 28/50\n",
      "894/894 [==============================] - 1s 682us/step - loss: 29885264.0000\n",
      "Epoch 29/50\n",
      "894/894 [==============================] - 1s 679us/step - loss: 29885278.0000\n",
      "Epoch 30/50\n",
      "894/894 [==============================] - 1s 680us/step - loss: 29885284.0000\n",
      "Epoch 31/50\n",
      "894/894 [==============================] - 1s 678us/step - loss: 29885282.0000\n",
      "Epoch 32/50\n",
      "894/894 [==============================] - 1s 682us/step - loss: 29885266.0000\n",
      "Epoch 33/50\n",
      "894/894 [==============================] - 1s 678us/step - loss: 29885270.0000\n",
      "Epoch 34/50\n",
      "894/894 [==============================] - 1s 690us/step - loss: 29885278.0000\n",
      "Epoch 35/50\n",
      "894/894 [==============================] - 1s 683us/step - loss: 29885284.0000\n",
      "Epoch 36/50\n",
      "894/894 [==============================] - 1s 677us/step - loss: 29885288.0000\n",
      "Epoch 37/50\n",
      "894/894 [==============================] - 1s 748us/step - loss: 29885284.0000\n",
      "Epoch 38/50\n",
      "894/894 [==============================] - 1s 753us/step - loss: 29885286.0000\n",
      "Epoch 39/50\n",
      "894/894 [==============================] - 1s 798us/step - loss: 29885276.0000\n",
      "Epoch 40/50\n",
      "894/894 [==============================] - 1s 775us/step - loss: 29885288.0000\n",
      "Epoch 41/50\n",
      "894/894 [==============================] - 1s 747us/step - loss: 29885246.0000\n",
      "Epoch 42/50\n",
      "894/894 [==============================] - 1s 682us/step - loss: 29885248.0000\n",
      "Epoch 43/50\n",
      "894/894 [==============================] - 1s 679us/step - loss: 29885252.0000\n",
      "Epoch 44/50\n",
      "894/894 [==============================] - 1s 684us/step - loss: 29885268.0000\n",
      "Epoch 45/50\n",
      "894/894 [==============================] - 1s 700us/step - loss: 29885266.0000\n",
      "Epoch 46/50\n",
      "894/894 [==============================] - 1s 685us/step - loss: 29885260.0000\n",
      "Epoch 47/50\n",
      "894/894 [==============================] - 1s 672us/step - loss: 29885276.0000\n",
      "Epoch 48/50\n",
      "894/894 [==============================] - 1s 682us/step - loss: 29885260.0000\n",
      "Epoch 49/50\n",
      "894/894 [==============================] - 1s 686us/step - loss: 29885262.0000\n",
      "Epoch 50/50\n",
      "894/894 [==============================] - 1s 684us/step - loss: 29885278.0000\n"
     ]
    },
    {
     "data": {
      "text/plain": [
       "<keras.callbacks.History at 0x7f4884198a90>"
      ]
     },
     "execution_count": 160,
     "metadata": {},
     "output_type": "execute_result"
    }
   ],
   "source": [
    "model.fit(X_train, y_train,epochs=50) "
   ]
  },
  {
   "cell_type": "code",
   "execution_count": 209,
   "metadata": {},
   "outputs": [
    {
     "name": "stdout",
     "output_type": "stream",
     "text": [
      "[[0.9324487]]\n"
     ]
    }
   ],
   "source": [
    "# día,hora,nreplies,nlikes,0_retweet,1_retweet\n",
    "print(model.predict([[3,21,1,2,1,0]]))"
   ]
  }
 ],
 "metadata": {
  "interpreter": {
   "hash": "7eafb698222e0ee7bfbc898e0da8391238ce73a0bc4ad3e20f3708b8771ba4ae"
  },
  "kernelspec": {
   "display_name": "Python 3.8.10 64-bit ('twai': venv)",
   "language": "python",
   "name": "python3"
  },
  "language_info": {
   "codemirror_mode": {
    "name": "ipython",
    "version": 3
   },
   "file_extension": ".py",
   "mimetype": "text/x-python",
   "name": "python",
   "nbconvert_exporter": "python",
   "pygments_lexer": "ipython3",
   "version": "3.8.10"
  },
  "orig_nbformat": 4
 },
 "nbformat": 4,
 "nbformat_minor": 2
}
