{
 "cells": [
  {
   "cell_type": "code",
   "execution_count": 4,
   "metadata": {},
   "outputs": [],
   "source": [
    "import pandas as pd"
   ]
  },
  {
   "cell_type": "code",
   "execution_count": 22,
   "metadata": {},
   "outputs": [
    {
     "name": "stderr",
     "output_type": "stream",
     "text": [
      "/home/julianmelero/twitter-ai/twai/lib/python3.8/site-packages/IPython/core/interactiveshell.py:3444: DtypeWarning: Columns (5) have mixed types.Specify dtype option on import or set low_memory=False.\n",
      "  exec(code_obj, self.user_global_ns, self.user_ns)\n",
      "/home/julianmelero/twitter-ai/twai/lib/python3.8/site-packages/IPython/core/interactiveshell.py:3444: DtypeWarning: Columns (23) have mixed types.Specify dtype option on import or set low_memory=False.\n",
      "  exec(code_obj, self.user_global_ns, self.user_ns)\n"
     ]
    }
   ],
   "source": [
    "headers = pd.read_csv('../Data/handles-data.csv')\n",
    "tweets = pd.read_csv('../Data/tweets-data.csv')\n",
    "union = pd.read_csv('../Data/union.csv', sep=\";\")\n",
    "pd.options.display.float_format = '{:.2f}'.format"
   ]
  },
  {
   "cell_type": "markdown",
   "metadata": {},
   "source": [
    "# Variables Independientes para el Modelo"
   ]
  },
  {
   "cell_type": "code",
   "execution_count": 6,
   "metadata": {},
   "outputs": [],
   "source": [
    "union[\"have_urls\"] = union[\"urls\"] != \"[]\"\n",
    "union[\"have_video\"] = union[\"video\"] != 0\n",
    "union[\"have_photos\"] = union[\"urls\"] != \"[]\"\n",
    "union[\"have_hashtags\"] = union[\"hashtags\"] != \"[]\"\n",
    "union[\"large_bio\"] = union[\"bio\"].str.len() >= 90\n"
   ]
  },
  {
   "cell_type": "code",
   "execution_count": 7,
   "metadata": {},
   "outputs": [
    {
     "data": {
      "text/html": [
       "<div>\n",
       "<style scoped>\n",
       "    .dataframe tbody tr th:only-of-type {\n",
       "        vertical-align: middle;\n",
       "    }\n",
       "\n",
       "    .dataframe tbody tr th {\n",
       "        vertical-align: top;\n",
       "    }\n",
       "\n",
       "    .dataframe thead th {\n",
       "        text-align: right;\n",
       "    }\n",
       "</style>\n",
       "<table border=\"1\" class=\"dataframe\">\n",
       "  <thead>\n",
       "    <tr style=\"text-align: right;\">\n",
       "      <th></th>\n",
       "      <th>have_urls</th>\n",
       "      <th>have_photos</th>\n",
       "    </tr>\n",
       "  </thead>\n",
       "  <tbody>\n",
       "    <tr>\n",
       "      <th>have_urls</th>\n",
       "      <td>1.00</td>\n",
       "      <td>1.00</td>\n",
       "    </tr>\n",
       "    <tr>\n",
       "      <th>have_photos</th>\n",
       "      <td>1.00</td>\n",
       "      <td>1.00</td>\n",
       "    </tr>\n",
       "  </tbody>\n",
       "</table>\n",
       "</div>"
      ],
      "text/plain": [
       "             have_urls  have_photos\n",
       "have_urls         1.00         1.00\n",
       "have_photos       1.00         1.00"
      ]
     },
     "execution_count": 7,
     "metadata": {},
     "output_type": "execute_result"
    }
   ],
   "source": [
    "union[['have_urls', 'have_video']]\n",
    "union[['have_urls', 'have_photos']].corr()"
   ]
  },
  {
   "cell_type": "code",
   "execution_count": 8,
   "metadata": {},
   "outputs": [
    {
     "data": {
      "text/plain": [
       "id_x                19011\n",
       "name_x              19011\n",
       "username            19011\n",
       "bio                 19011\n",
       "url                 17117\n",
       "join_datetime       19011\n",
       "join_date           19011\n",
       "join_time           19011\n",
       "tweets              19011\n",
       "location            14153\n",
       "following           19011\n",
       "followers           19011\n",
       "likes               19011\n",
       "media               19011\n",
       "private             19011\n",
       "verified            19011\n",
       "avatar              19011\n",
       "background_image    18960\n",
       "id_y                19011\n",
       "conversation_id     19011\n",
       "created_at          19011\n",
       "date                19011\n",
       "timezone            19011\n",
       "place                   9\n",
       "tweet               19011\n",
       "language            19011\n",
       "hashtags            19011\n",
       "cashtags            19011\n",
       "user_id             19011\n",
       "user_id_str         19011\n",
       "name_y              19011\n",
       "day                 19011\n",
       "hour                19011\n",
       "link                19011\n",
       "urls                19011\n",
       "photos              19011\n",
       "video               19011\n",
       "thumbnail            3957\n",
       "retweet             19011\n",
       "nlikes              19011\n",
       "nreplies            19011\n",
       "nretweets           19011\n",
       "quote_url           19011\n",
       "search              19011\n",
       "near                    0\n",
       "geo                     0\n",
       "source                  0\n",
       "user_rt_id           2912\n",
       "user_rt              2912\n",
       "retweet_id           2912\n",
       "reply_to            19011\n",
       "retweet_date         2912\n",
       "translate               0\n",
       "trans_src               0\n",
       "trans_dest              0\n",
       "have_urls           19011\n",
       "have_video          19011\n",
       "have_photos         19011\n",
       "have_hashtags       19011\n",
       "large_bio           19011\n",
       "dtype: int64"
      ]
     },
     "execution_count": 8,
     "metadata": {},
     "output_type": "execute_result"
    }
   ],
   "source": [
    "union[\"large_bio\"].value_counts()\n",
    "union[union['bio'].str.len() >= 100].count()"
   ]
  },
  {
   "cell_type": "code",
   "execution_count": 9,
   "metadata": {},
   "outputs": [
    {
     "name": "stdout",
     "output_type": "stream",
     "text": [
      "['id', 'conversation_id', 'created_at', 'date', 'timezone', 'place', 'tweet', 'language', 'hashtags', 'cashtags', 'user_id', 'user_id_str', 'username', 'name', 'day', 'hour', 'link', 'urls', 'photos', 'video', 'thumbnail', 'retweet', 'nlikes', 'nreplies', 'nretweets', 'quote_url', 'search', 'near', 'geo', 'source', 'user_rt_id', 'user_rt', 'retweet_id', 'reply_to', 'retweet_date', 'translate', 'trans_src', 'trans_dest']\n"
     ]
    }
   ],
   "source": [
    "print(tweets.columns.tolist())"
   ]
  },
  {
   "cell_type": "code",
   "execution_count": 10,
   "metadata": {},
   "outputs": [
    {
     "data": {
      "text/plain": [
       "0         Michelle Obama\n",
       "1             KATY PERRY\n",
       "2             KATY PERRY\n",
       "3             KATY PERRY\n",
       "4             KATY PERRY\n",
       "              ...       \n",
       "40576    Nana Akufo-Addo\n",
       "40577    Nana Akufo-Addo\n",
       "40578    Nana Akufo-Addo\n",
       "40579    Nana Akufo-Addo\n",
       "40580    Nana Akufo-Addo\n",
       "Name: name, Length: 40581, dtype: object"
      ]
     },
     "execution_count": 10,
     "metadata": {},
     "output_type": "execute_result"
    }
   ],
   "source": [
    "tweets['name']"
   ]
  },
  {
   "cell_type": "code",
   "execution_count": 11,
   "metadata": {},
   "outputs": [
    {
     "name": "stdout",
     "output_type": "stream",
     "text": [
      "['id', 'name', 'username', 'bio', 'url', 'join_datetime', 'join_date', 'join_time', 'tweets', 'location', 'following', 'followers', 'likes', 'media', 'private', 'verified', 'avatar', 'background_image']\n"
     ]
    }
   ],
   "source": [
    "print(headers.columns.tolist())"
   ]
  },
  {
   "cell_type": "markdown",
   "metadata": {},
   "source": [
    "## Día de la semana"
   ]
  },
  {
   "cell_type": "markdown",
   "metadata": {},
   "source": [
    "La fecha está en formato string como podemos observar"
   ]
  },
  {
   "cell_type": "code",
   "execution_count": 12,
   "metadata": {},
   "outputs": [
    {
     "data": {
      "text/plain": [
       "'2021-08-12 00:52:14'"
      ]
     },
     "execution_count": 12,
     "metadata": {},
     "output_type": "execute_result"
    }
   ],
   "source": [
    "tweets['date'][0]"
   ]
  },
  {
   "cell_type": "markdown",
   "metadata": {},
   "source": [
    "Podemos convertir ese string en formato fecha, para así poder obtener el día de la semana"
   ]
  },
  {
   "cell_type": "code",
   "execution_count": 13,
   "metadata": {},
   "outputs": [
    {
     "name": "stdout",
     "output_type": "stream",
     "text": [
      "4\n"
     ]
    }
   ],
   "source": [
    "from datetime import datetime\n",
    "print(datetime.strptime(tweets['date'][0], '%Y-%m-%d %H:%M:%S').isoweekday())"
   ]
  },
  {
   "cell_type": "code",
   "execution_count": 14,
   "metadata": {},
   "outputs": [
    {
     "data": {
      "text/plain": [
       "0"
      ]
     },
     "execution_count": 14,
     "metadata": {},
     "output_type": "execute_result"
    }
   ],
   "source": [
    "tweets['date'].isnull().sum()"
   ]
  },
  {
   "cell_type": "code",
   "execution_count": 15,
   "metadata": {},
   "outputs": [
    {
     "data": {
      "text/html": [
       "<div>\n",
       "<style scoped>\n",
       "    .dataframe tbody tr th:only-of-type {\n",
       "        vertical-align: middle;\n",
       "    }\n",
       "\n",
       "    .dataframe tbody tr th {\n",
       "        vertical-align: top;\n",
       "    }\n",
       "\n",
       "    .dataframe thead th {\n",
       "        text-align: right;\n",
       "    }\n",
       "</style>\n",
       "<table border=\"1\" class=\"dataframe\">\n",
       "  <thead>\n",
       "    <tr style=\"text-align: right;\">\n",
       "      <th></th>\n",
       "      <th>id</th>\n",
       "      <th>conversation_id</th>\n",
       "      <th>created_at</th>\n",
       "      <th>date</th>\n",
       "      <th>timezone</th>\n",
       "      <th>place</th>\n",
       "      <th>tweet</th>\n",
       "      <th>language</th>\n",
       "      <th>hashtags</th>\n",
       "      <th>cashtags</th>\n",
       "      <th>...</th>\n",
       "      <th>source</th>\n",
       "      <th>user_rt_id</th>\n",
       "      <th>user_rt</th>\n",
       "      <th>retweet_id</th>\n",
       "      <th>reply_to</th>\n",
       "      <th>retweet_date</th>\n",
       "      <th>translate</th>\n",
       "      <th>trans_src</th>\n",
       "      <th>trans_dest</th>\n",
       "      <th>dia_semana</th>\n",
       "    </tr>\n",
       "  </thead>\n",
       "  <tbody>\n",
       "    <tr>\n",
       "      <th>0</th>\n",
       "      <td>1425590913959612419</td>\n",
       "      <td>1425590913959612419</td>\n",
       "      <td>1628722334000.00</td>\n",
       "      <td>2021-08-12 00:52:14</td>\n",
       "      <td>200</td>\n",
       "      <td>NaN</td>\n",
       "      <td>RT @girlsalliance: We're so proud of the four ...</td>\n",
       "      <td>en</td>\n",
       "      <td>[]</td>\n",
       "      <td>[]</td>\n",
       "      <td>...</td>\n",
       "      <td>NaN</td>\n",
       "      <td>1047165448008228864.00</td>\n",
       "      <td>We're so proud of the four organizations in ou...</td>\n",
       "      <td>1425589589272678400.00</td>\n",
       "      <td>[]</td>\n",
       "      <td>2021-08-12 00:46:58 CEST</td>\n",
       "      <td>NaN</td>\n",
       "      <td>NaN</td>\n",
       "      <td>NaN</td>\n",
       "      <td>4</td>\n",
       "    </tr>\n",
       "    <tr>\n",
       "      <th>1</th>\n",
       "      <td>1427736867739299841</td>\n",
       "      <td>1427736867739299841</td>\n",
       "      <td>1629233969000.00</td>\n",
       "      <td>2021-08-17 22:59:29</td>\n",
       "      <td>200</td>\n",
       "      <td>NaN</td>\n",
       "      <td>Some casual suggestions to 😏SLIDE😏 into when u...</td>\n",
       "      <td>en</td>\n",
       "      <td>['shoesdaytuesday', 'afterskewlslide']</td>\n",
       "      <td>[]</td>\n",
       "      <td>...</td>\n",
       "      <td>NaN</td>\n",
       "      <td>NaN</td>\n",
       "      <td>NaN</td>\n",
       "      <td>NaN</td>\n",
       "      <td>[]</td>\n",
       "      <td>NaN</td>\n",
       "      <td>NaN</td>\n",
       "      <td>NaN</td>\n",
       "      <td>NaN</td>\n",
       "      <td>2</td>\n",
       "    </tr>\n",
       "    <tr>\n",
       "      <th>2</th>\n",
       "      <td>1427667300488937476</td>\n",
       "      <td>1427667300488937476</td>\n",
       "      <td>1629217383000.00</td>\n",
       "      <td>2021-08-17 18:23:03</td>\n",
       "      <td>200</td>\n",
       "      <td>NaN</td>\n",
       "      <td>RT @ValaAfshar: You are not your job.</td>\n",
       "      <td>en</td>\n",
       "      <td>[]</td>\n",
       "      <td>[]</td>\n",
       "      <td>...</td>\n",
       "      <td>NaN</td>\n",
       "      <td>259725229.00</td>\n",
       "      <td>You are not your job.</td>\n",
       "      <td>1427647879246667776.00</td>\n",
       "      <td>[]</td>\n",
       "      <td>2021-08-17 17:05:53 CEST</td>\n",
       "      <td>NaN</td>\n",
       "      <td>NaN</td>\n",
       "      <td>NaN</td>\n",
       "      <td>2</td>\n",
       "    </tr>\n",
       "    <tr>\n",
       "      <th>3</th>\n",
       "      <td>1427667012105371652</td>\n",
       "      <td>1427667012105371652</td>\n",
       "      <td>1629217315000.00</td>\n",
       "      <td>2021-08-17 18:21:55</td>\n",
       "      <td>200</td>\n",
       "      <td>NaN</td>\n",
       "      <td>What have we become 😔😂  Toddler Cites Freedom ...</td>\n",
       "      <td>en</td>\n",
       "      <td>[]</td>\n",
       "      <td>[]</td>\n",
       "      <td>...</td>\n",
       "      <td>NaN</td>\n",
       "      <td>NaN</td>\n",
       "      <td>NaN</td>\n",
       "      <td>NaN</td>\n",
       "      <td>[]</td>\n",
       "      <td>NaN</td>\n",
       "      <td>NaN</td>\n",
       "      <td>NaN</td>\n",
       "      <td>NaN</td>\n",
       "      <td>2</td>\n",
       "    </tr>\n",
       "    <tr>\n",
       "      <th>4</th>\n",
       "      <td>1427497703596990467</td>\n",
       "      <td>1427497703596990467</td>\n",
       "      <td>1629176948000.00</td>\n",
       "      <td>2021-08-17 07:09:08</td>\n",
       "      <td>200</td>\n",
       "      <td>NaN</td>\n",
       "      <td>The tech giants that refuse to massively addre...</td>\n",
       "      <td>en</td>\n",
       "      <td>[]</td>\n",
       "      <td>[]</td>\n",
       "      <td>...</td>\n",
       "      <td>NaN</td>\n",
       "      <td>NaN</td>\n",
       "      <td>NaN</td>\n",
       "      <td>NaN</td>\n",
       "      <td>[]</td>\n",
       "      <td>NaN</td>\n",
       "      <td>NaN</td>\n",
       "      <td>NaN</td>\n",
       "      <td>NaN</td>\n",
       "      <td>2</td>\n",
       "    </tr>\n",
       "    <tr>\n",
       "      <th>...</th>\n",
       "      <td>...</td>\n",
       "      <td>...</td>\n",
       "      <td>...</td>\n",
       "      <td>...</td>\n",
       "      <td>...</td>\n",
       "      <td>...</td>\n",
       "      <td>...</td>\n",
       "      <td>...</td>\n",
       "      <td>...</td>\n",
       "      <td>...</td>\n",
       "      <td>...</td>\n",
       "      <td>...</td>\n",
       "      <td>...</td>\n",
       "      <td>...</td>\n",
       "      <td>...</td>\n",
       "      <td>...</td>\n",
       "      <td>...</td>\n",
       "      <td>...</td>\n",
       "      <td>...</td>\n",
       "      <td>...</td>\n",
       "      <td>...</td>\n",
       "    </tr>\n",
       "    <tr>\n",
       "      <th>40576</th>\n",
       "      <td>1427593440469061634</td>\n",
       "      <td>1427593440469061634</td>\n",
       "      <td>1629199774000.00</td>\n",
       "      <td>2021-08-17 13:29:34</td>\n",
       "      <td>200</td>\n",
       "      <td>NaN</td>\n",
       "      <td>Commencement of works. #Agenda111  https://t.c...</td>\n",
       "      <td>en</td>\n",
       "      <td>['agenda111']</td>\n",
       "      <td>[]</td>\n",
       "      <td>...</td>\n",
       "      <td>NaN</td>\n",
       "      <td>NaN</td>\n",
       "      <td>NaN</td>\n",
       "      <td>NaN</td>\n",
       "      <td>[]</td>\n",
       "      <td>NaN</td>\n",
       "      <td>NaN</td>\n",
       "      <td>NaN</td>\n",
       "      <td>NaN</td>\n",
       "      <td>2</td>\n",
       "    </tr>\n",
       "    <tr>\n",
       "      <th>40577</th>\n",
       "      <td>1427592955272089642</td>\n",
       "      <td>1427592930722820096</td>\n",
       "      <td>1629199658000.00</td>\n",
       "      <td>2021-08-17 13:27:38</td>\n",
       "      <td>200</td>\n",
       "      <td>NaN</td>\n",
       "      <td>Commencement of works. #Agenda111  https://t.c...</td>\n",
       "      <td>en</td>\n",
       "      <td>['agenda111']</td>\n",
       "      <td>[]</td>\n",
       "      <td>...</td>\n",
       "      <td>NaN</td>\n",
       "      <td>NaN</td>\n",
       "      <td>NaN</td>\n",
       "      <td>NaN</td>\n",
       "      <td>[]</td>\n",
       "      <td>NaN</td>\n",
       "      <td>NaN</td>\n",
       "      <td>NaN</td>\n",
       "      <td>NaN</td>\n",
       "      <td>2</td>\n",
       "    </tr>\n",
       "    <tr>\n",
       "      <th>40578</th>\n",
       "      <td>1427592942441598980</td>\n",
       "      <td>1427592930722820096</td>\n",
       "      <td>1629199655000.00</td>\n",
       "      <td>2021-08-17 13:27:35</td>\n",
       "      <td>200</td>\n",
       "      <td>NaN</td>\n",
       "      <td>Commencement of works. #Agenda111  https://t.c...</td>\n",
       "      <td>en</td>\n",
       "      <td>['agenda111']</td>\n",
       "      <td>[]</td>\n",
       "      <td>...</td>\n",
       "      <td>NaN</td>\n",
       "      <td>NaN</td>\n",
       "      <td>NaN</td>\n",
       "      <td>NaN</td>\n",
       "      <td>[]</td>\n",
       "      <td>NaN</td>\n",
       "      <td>NaN</td>\n",
       "      <td>NaN</td>\n",
       "      <td>NaN</td>\n",
       "      <td>2</td>\n",
       "    </tr>\n",
       "    <tr>\n",
       "      <th>40579</th>\n",
       "      <td>1427592930722820096</td>\n",
       "      <td>1427592930722820096</td>\n",
       "      <td>1629199652000.00</td>\n",
       "      <td>2021-08-17 13:27:32</td>\n",
       "      <td>200</td>\n",
       "      <td>NaN</td>\n",
       "      <td>Commencement of works. #Agenda111  https://t.c...</td>\n",
       "      <td>en</td>\n",
       "      <td>['agenda111']</td>\n",
       "      <td>[]</td>\n",
       "      <td>...</td>\n",
       "      <td>NaN</td>\n",
       "      <td>NaN</td>\n",
       "      <td>NaN</td>\n",
       "      <td>NaN</td>\n",
       "      <td>[]</td>\n",
       "      <td>NaN</td>\n",
       "      <td>NaN</td>\n",
       "      <td>NaN</td>\n",
       "      <td>NaN</td>\n",
       "      <td>2</td>\n",
       "    </tr>\n",
       "    <tr>\n",
       "      <th>40580</th>\n",
       "      <td>1427335350658158598</td>\n",
       "      <td>1427335350658158598</td>\n",
       "      <td>1629138240000.00</td>\n",
       "      <td>2021-08-16 20:24:00</td>\n",
       "      <td>200</td>\n",
       "      <td>NaN</td>\n",
       "      <td>#Agenda111  https://t.co/M1FYBKXqK3</td>\n",
       "      <td>und</td>\n",
       "      <td>['agenda111']</td>\n",
       "      <td>[]</td>\n",
       "      <td>...</td>\n",
       "      <td>NaN</td>\n",
       "      <td>NaN</td>\n",
       "      <td>NaN</td>\n",
       "      <td>NaN</td>\n",
       "      <td>[]</td>\n",
       "      <td>NaN</td>\n",
       "      <td>NaN</td>\n",
       "      <td>NaN</td>\n",
       "      <td>NaN</td>\n",
       "      <td>1</td>\n",
       "    </tr>\n",
       "  </tbody>\n",
       "</table>\n",
       "<p>40581 rows × 39 columns</p>\n",
       "</div>"
      ],
      "text/plain": [
       "                        id      conversation_id       created_at  \\\n",
       "0      1425590913959612419  1425590913959612419 1628722334000.00   \n",
       "1      1427736867739299841  1427736867739299841 1629233969000.00   \n",
       "2      1427667300488937476  1427667300488937476 1629217383000.00   \n",
       "3      1427667012105371652  1427667012105371652 1629217315000.00   \n",
       "4      1427497703596990467  1427497703596990467 1629176948000.00   \n",
       "...                    ...                  ...              ...   \n",
       "40576  1427593440469061634  1427593440469061634 1629199774000.00   \n",
       "40577  1427592955272089642  1427592930722820096 1629199658000.00   \n",
       "40578  1427592942441598980  1427592930722820096 1629199655000.00   \n",
       "40579  1427592930722820096  1427592930722820096 1629199652000.00   \n",
       "40580  1427335350658158598  1427335350658158598 1629138240000.00   \n",
       "\n",
       "                      date  timezone place  \\\n",
       "0      2021-08-12 00:52:14       200   NaN   \n",
       "1      2021-08-17 22:59:29       200   NaN   \n",
       "2      2021-08-17 18:23:03       200   NaN   \n",
       "3      2021-08-17 18:21:55       200   NaN   \n",
       "4      2021-08-17 07:09:08       200   NaN   \n",
       "...                    ...       ...   ...   \n",
       "40576  2021-08-17 13:29:34       200   NaN   \n",
       "40577  2021-08-17 13:27:38       200   NaN   \n",
       "40578  2021-08-17 13:27:35       200   NaN   \n",
       "40579  2021-08-17 13:27:32       200   NaN   \n",
       "40580  2021-08-16 20:24:00       200   NaN   \n",
       "\n",
       "                                                   tweet language  \\\n",
       "0      RT @girlsalliance: We're so proud of the four ...       en   \n",
       "1      Some casual suggestions to 😏SLIDE😏 into when u...       en   \n",
       "2                  RT @ValaAfshar: You are not your job.       en   \n",
       "3      What have we become 😔😂  Toddler Cites Freedom ...       en   \n",
       "4      The tech giants that refuse to massively addre...       en   \n",
       "...                                                  ...      ...   \n",
       "40576  Commencement of works. #Agenda111  https://t.c...       en   \n",
       "40577  Commencement of works. #Agenda111  https://t.c...       en   \n",
       "40578  Commencement of works. #Agenda111  https://t.c...       en   \n",
       "40579  Commencement of works. #Agenda111  https://t.c...       en   \n",
       "40580                #Agenda111  https://t.co/M1FYBKXqK3      und   \n",
       "\n",
       "                                     hashtags cashtags  ...  source  \\\n",
       "0                                          []       []  ...     NaN   \n",
       "1      ['shoesdaytuesday', 'afterskewlslide']       []  ...     NaN   \n",
       "2                                          []       []  ...     NaN   \n",
       "3                                          []       []  ...     NaN   \n",
       "4                                          []       []  ...     NaN   \n",
       "...                                       ...      ...  ...     ...   \n",
       "40576                           ['agenda111']       []  ...     NaN   \n",
       "40577                           ['agenda111']       []  ...     NaN   \n",
       "40578                           ['agenda111']       []  ...     NaN   \n",
       "40579                           ['agenda111']       []  ...     NaN   \n",
       "40580                           ['agenda111']       []  ...     NaN   \n",
       "\n",
       "                  user_rt_id  \\\n",
       "0     1047165448008228864.00   \n",
       "1                        NaN   \n",
       "2               259725229.00   \n",
       "3                        NaN   \n",
       "4                        NaN   \n",
       "...                      ...   \n",
       "40576                    NaN   \n",
       "40577                    NaN   \n",
       "40578                    NaN   \n",
       "40579                    NaN   \n",
       "40580                    NaN   \n",
       "\n",
       "                                                 user_rt  \\\n",
       "0      We're so proud of the four organizations in ou...   \n",
       "1                                                    NaN   \n",
       "2                                  You are not your job.   \n",
       "3                                                    NaN   \n",
       "4                                                    NaN   \n",
       "...                                                  ...   \n",
       "40576                                                NaN   \n",
       "40577                                                NaN   \n",
       "40578                                                NaN   \n",
       "40579                                                NaN   \n",
       "40580                                                NaN   \n",
       "\n",
       "                  retweet_id  reply_to              retweet_date translate  \\\n",
       "0     1425589589272678400.00        []  2021-08-12 00:46:58 CEST       NaN   \n",
       "1                        NaN        []                       NaN       NaN   \n",
       "2     1427647879246667776.00        []  2021-08-17 17:05:53 CEST       NaN   \n",
       "3                        NaN        []                       NaN       NaN   \n",
       "4                        NaN        []                       NaN       NaN   \n",
       "...                      ...       ...                       ...       ...   \n",
       "40576                    NaN        []                       NaN       NaN   \n",
       "40577                    NaN        []                       NaN       NaN   \n",
       "40578                    NaN        []                       NaN       NaN   \n",
       "40579                    NaN        []                       NaN       NaN   \n",
       "40580                    NaN        []                       NaN       NaN   \n",
       "\n",
       "      trans_src trans_dest  dia_semana  \n",
       "0           NaN        NaN           4  \n",
       "1           NaN        NaN           2  \n",
       "2           NaN        NaN           2  \n",
       "3           NaN        NaN           2  \n",
       "4           NaN        NaN           2  \n",
       "...         ...        ...         ...  \n",
       "40576       NaN        NaN           2  \n",
       "40577       NaN        NaN           2  \n",
       "40578       NaN        NaN           2  \n",
       "40579       NaN        NaN           2  \n",
       "40580       NaN        NaN           1  \n",
       "\n",
       "[40581 rows x 39 columns]"
      ]
     },
     "execution_count": 15,
     "metadata": {},
     "output_type": "execute_result"
    }
   ],
   "source": [
    "def calcular_dia(fecha):\n",
    "    return datetime.strptime(fecha, '%Y-%m-%d %H:%M:%S').isoweekday()\n",
    "\n",
    "tweets['dia_semana'] = tweets['date'].aggregate([calcular_dia])\n",
    "tweets\n",
    "\n"
   ]
  },
  {
   "cell_type": "code",
   "execution_count": 16,
   "metadata": {},
   "outputs": [
    {
     "data": {
      "text/plain": [
       "1    5624\n",
       "2    6092\n",
       "3    7145\n",
       "4    6343\n",
       "5    6550\n",
       "6    4509\n",
       "7    4318\n",
       "Name: dia_semana, dtype: int64"
      ]
     },
     "execution_count": 16,
     "metadata": {},
     "output_type": "execute_result"
    }
   ],
   "source": [
    "tweets['dia_semana'].value_counts().sort_index()\n"
   ]
  },
  {
   "cell_type": "code",
   "execution_count": 17,
   "metadata": {},
   "outputs": [
    {
     "data": {
      "text/plain": [
       "<matplotlib.collections.PathCollection at 0x7f25effe4580>"
      ]
     },
     "execution_count": 17,
     "metadata": {},
     "output_type": "execute_result"
    },
    {
     "data": {
      "image/png": "[encoded data removed]",
      "text/plain": [
       "<Figure size 1080x576 with 4 Axes>"
      ]
     },
     "metadata": {
      "needs_background": "light"
     },
     "output_type": "display_data"
    }
   ],
   "source": [
    "import matplotlib.pyplot as plt\n",
    "import seaborn as sns\n",
    "\n",
    "figura = plt.figure(figsize=(15,8))\n",
    "figura.suptitle(\"Día y Hora Tweets\")\n",
    "\n",
    "axes = figura.add_subplot(2,2,1)\n",
    "axes2 = figura.add_subplot(2,2,2)\n",
    "axes3 = figura.add_subplot(2,2,3)\n",
    "axes4 = figura.add_subplot(2,2,4)\n",
    "\n",
    "axes.set_title(\"Hist. Hora\")\n",
    "axes.set_xlabel(\"Hora\")\n",
    "sns.histplot(x=tweets['hour'],ax=axes, kde=True)\n",
    "\n",
    "\n",
    "sns.histplot(x=tweets['day'],ax=axes2, kde=True)\n",
    "\n",
    "axes3.set_title(\"Hora / Nº Likes\")\n",
    "axes3.set_xlabel(\"Hora\")\n",
    "axes3.scatter(tweets['hour'].values, tweets['nlikes'].values, label=\"Nº Likes\")\n",
    "axes3.scatter(tweets['hour'].values, tweets['nretweets'].values, color=\"red\", label=\"Nº Retweets\")\n",
    "axes3.legend()\n",
    "\n",
    "axes4.set_title(\"Día / Nº Likes\")\n",
    "axes4.scatter(tweets['day'].values, tweets['nlikes'].values)\n",
    "axes4.scatter(tweets['day'].values, tweets['nretweets'].values, color=\"red\")"
   ]
  },
  {
   "cell_type": "code",
   "execution_count": 18,
   "metadata": {},
   "outputs": [
    {
     "name": "stdout",
     "output_type": "stream",
     "text": [
      "['id', 'conversation_id', 'created_at', 'date', 'timezone', 'place', 'tweet', 'language', 'hashtags', 'cashtags', 'user_id', 'user_id_str', 'username', 'name', 'day', 'hour', 'link', 'urls', 'photos', 'video', 'thumbnail', 'retweet', 'nlikes', 'nreplies', 'nretweets', 'quote_url', 'search', 'near', 'geo', 'source', 'user_rt_id', 'user_rt', 'retweet_id', 'reply_to', 'retweet_date', 'translate', 'trans_src', 'trans_dest', 'dia_semana']\n"
     ]
    }
   ],
   "source": [
    "print(tweets.columns.tolist())"
   ]
  },
  {
   "cell_type": "code",
   "execution_count": 19,
   "metadata": {},
   "outputs": [
    {
     "data": {
      "text/plain": [
       "200    40581\n",
       "Name: timezone, dtype: int64"
      ]
     },
     "execution_count": 19,
     "metadata": {},
     "output_type": "execute_result"
    }
   ],
   "source": [
    "tweets['timezone'].value_counts()"
   ]
  },
  {
   "cell_type": "code",
   "execution_count": 23,
   "metadata": {},
   "outputs": [],
   "source": [
    "figura = plt.figure(figsize=(15,8))\n",
    "\n",
    "axes = figura.add_subplot(2,2,1)\n",
    "sns.histplot(x=tweets['nretweets'],ax=axes, kde=True)"
   ]
  }
 ],
 "metadata": {
  "interpreter": {
   "hash": "7eafb698222e0ee7bfbc898e0da8391238ce73a0bc4ad3e20f3708b8771ba4ae"
  },
  "kernelspec": {
   "display_name": "Python 3.8.10 64-bit ('twai': venv)",
   "language": "python",
   "name": "python3"
  },
  "language_info": {
   "codemirror_mode": {
    "name": "ipython",
    "version": 3
   },
   "file_extension": ".py",
   "mimetype": "text/x-python",
   "name": "python",
   "nbconvert_exporter": "python",
   "pygments_lexer": "ipython3",
   "version": "3.8.10"
  },
  "orig_nbformat": 4
 },
 "nbformat": 4,
 "nbformat_minor": 2
}
