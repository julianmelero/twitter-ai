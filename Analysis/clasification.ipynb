{
 "cells": [
  {
   "cell_type": "markdown",
   "metadata": {},
   "source": [
    "# Importación de librerías"
   ]
  },
  {
   "cell_type": "code",
   "execution_count": 11,
   "metadata": {},
   "outputs": [],
   "source": [
    "import pandas as pd\n",
    "import matplotlib.pyplot as plt\n",
    "import seaborn as sns\n",
    "from sklearn.preprocessing import OneHotEncoder\n",
    "from sklearn.model_selection import train_test_split\n",
    "# import tensorflow as tf\n",
    "# from keras.models import Sequential\n",
    "# from keras.layers import Dense"
   ]
  },
  {
   "cell_type": "markdown",
   "metadata": {},
   "source": [
    "# Carga de datos"
   ]
  },
  {
   "cell_type": "code",
   "execution_count": 33,
   "metadata": {},
   "outputs": [
    {
     "name": "stderr",
     "output_type": "stream",
     "text": [
      "/home/julianmelero/twitter-ai/twai/lib/python3.8/site-packages/IPython/core/interactiveshell.py:3457: DtypeWarning: Columns (5) have mixed types.Specify dtype option on import or set low_memory=False.\n",
      "  exec(code_obj, self.user_global_ns, self.user_ns)\n"
     ]
    }
   ],
   "source": [
    "headers = pd.read_csv('../Data/handles-data.csv')\n",
    "tweets = pd.read_csv('../Data/tweets-data.csv')\n",
    "pd.options.display.float_format = '{:.2f}'.format"
   ]
  },
  {
   "cell_type": "markdown",
   "metadata": {},
   "source": [
    "# Target Clasificación"
   ]
  },
  {
   "cell_type": "code",
   "execution_count": 13,
   "metadata": {},
   "outputs": [
    {
     "data": {
      "text/plain": [
       "0"
      ]
     },
     "execution_count": 13,
     "metadata": {},
     "output_type": "execute_result"
    }
   ],
   "source": [
    "tweets[\"nretweets\"].isnull().sum()"
   ]
  },
  {
   "cell_type": "code",
   "execution_count": 14,
   "metadata": {},
   "outputs": [
    {
     "data": {
      "text/plain": [
       "0.70       49.00\n",
       "0.80      104.00\n",
       "0.90      311.00\n",
       "0.95      871.00\n",
       "1.00   541964.00\n",
       "Name: nretweets, dtype: float64"
      ]
     },
     "execution_count": 14,
     "metadata": {},
     "output_type": "execute_result"
    }
   ],
   "source": [
    "tweets[\"nretweets\"].quantile([0.7,0.8,0.9,0.95,1])"
   ]
  },
  {
   "cell_type": "markdown",
   "metadata": {},
   "source": [
    "## Pipeline"
   ]
  },
  {
   "cell_type": "code",
   "execution_count": 34,
   "metadata": {},
   "outputs": [],
   "source": [
    "def pipeline_qcut_label(dataset):\n",
    "    # very_unpopular:0 unpopular:1 popular:2 very_popular:1\n",
    "    dataset[\"categorias\"] = pd.qcut(dataset[\"nretweets\"], [0.7,0.8,0.9,0.95,1], labels=[\"0\", \"1\",\"2\", \"3\"])\n",
    "    dataset[\"categorias\"][dataset[\"categorias\"].isnull()] = \"0\"\n",
    "    # df = pd.get_dummies(tweets, columns=[\"categorias\"])\n",
    "    return dataset[[\"categoria\"]]"
   ]
  },
  {
   "cell_type": "code",
   "execution_count": 16,
   "metadata": {},
   "outputs": [],
   "source": [
    "# tweets_label_categorical = pipeline_qcut_label(tweets)"
   ]
  },
  {
   "cell_type": "code",
   "execution_count": 17,
   "metadata": {},
   "outputs": [],
   "source": [
    "# tweets_label_categorical"
   ]
  },
  {
   "cell_type": "markdown",
   "metadata": {},
   "source": [
    "Establezco todos los tweets como poco populares de entrada, así si exiten nulos estos estarán como \"poco populares\". De esta forma, aquellos tweets que están por debajo o igual al percentil 80 serán como poco populares."
   ]
  },
  {
   "cell_type": "code",
   "execution_count": 35,
   "metadata": {},
   "outputs": [],
   "source": [
    "# very_unpopular:0 unpopular:1 popular:2 very_popular:1\n",
    "tweets[\"label\"] = pd.qcut(tweets[\"nretweets\"], [0.7,0.8,0.90,0.95,1], labels=[\"0\", \"1\",\"2\", \"3\"])"
   ]
  },
  {
   "cell_type": "code",
   "execution_count": 36,
   "metadata": {},
   "outputs": [],
   "source": [
    "tweets[\"label\"][tweets[\"label\"].isnull()] = \"0\""
   ]
  },
  {
   "cell_type": "code",
   "execution_count": 37,
   "metadata": {},
   "outputs": [
    {
     "data": {
      "text/plain": [
       "0     1\n",
       "1     2\n",
       "2     2\n",
       "3     2\n",
       "4     3\n",
       "5     2\n",
       "6     3\n",
       "7     0\n",
       "8     3\n",
       "9     1\n",
       "10    1\n",
       "11    2\n",
       "12    3\n",
       "13    3\n",
       "14    3\n",
       "15    1\n",
       "16    3\n",
       "17    3\n",
       "18    1\n",
       "19    3\n",
       "20    3\n",
       "21    3\n",
       "22    3\n",
       "23    3\n",
       "24    3\n",
       "25    3\n",
       "26    3\n",
       "27    3\n",
       "28    3\n",
       "29    3\n",
       "30    3\n",
       "31    3\n",
       "32    3\n",
       "33    0\n",
       "34    0\n",
       "35    1\n",
       "36    0\n",
       "37    0\n",
       "38    0\n",
       "39    0\n",
       "40    0\n",
       "41    0\n",
       "42    0\n",
       "43    0\n",
       "44    0\n",
       "45    0\n",
       "46    0\n",
       "47    0\n",
       "48    1\n",
       "49    0\n",
       "Name: label, dtype: category\n",
       "Categories (4, object): ['0' < '1' < '2' < '3']"
      ]
     },
     "execution_count": 37,
     "metadata": {},
     "output_type": "execute_result"
    }
   ],
   "source": [
    "tweets[\"label\"].head(50)"
   ]
  },
  {
   "cell_type": "code",
   "execution_count": 38,
   "metadata": {},
   "outputs": [
    {
     "data": {
      "text/plain": [
       "label\n",
       "0    32523\n",
       "1     4006\n",
       "2     2023\n",
       "3     2029\n",
       "dtype: int64"
      ]
     },
     "execution_count": 38,
     "metadata": {},
     "output_type": "execute_result"
    }
   ],
   "source": [
    "tweets.groupby('label').size()"
   ]
  },
  {
   "cell_type": "code",
   "execution_count": 39,
   "metadata": {},
   "outputs": [
    {
     "data": {
      "text/plain": [
       "2029"
      ]
     },
     "execution_count": 39,
     "metadata": {},
     "output_type": "execute_result"
    }
   ],
   "source": [
    "tweets[tweets[\"nretweets\"]>871][\"nretweets\"].count()"
   ]
  },
  {
   "cell_type": "code",
   "execution_count": 40,
   "metadata": {},
   "outputs": [
    {
     "data": {
      "text/plain": [
       "2029"
      ]
     },
     "execution_count": 40,
     "metadata": {},
     "output_type": "execute_result"
    }
   ],
   "source": [
    "tweets[tweets[\"label\"]==\"3\"][\"label\"].count()"
   ]
  },
  {
   "cell_type": "code",
   "execution_count": 28,
   "metadata": {},
   "outputs": [
    {
     "data": {
      "text/plain": [
       "32523"
      ]
     },
     "execution_count": 28,
     "metadata": {},
     "output_type": "execute_result"
    }
   ],
   "source": [
    "tweets[tweets[\"nretweets\"]<=104][\"nretweets\"].count()"
   ]
  },
  {
   "cell_type": "code",
   "execution_count": 29,
   "metadata": {},
   "outputs": [
    {
     "data": {
      "text/plain": [
       "32523"
      ]
     },
     "execution_count": 29,
     "metadata": {},
     "output_type": "execute_result"
    }
   ],
   "source": [
    "tweets[tweets[\"label\"]==\"0\"][\"label\"].count()"
   ]
  },
  {
   "cell_type": "code",
   "execution_count": 30,
   "metadata": {},
   "outputs": [
    {
     "data": {
      "text/plain": [
       "0"
      ]
     },
     "execution_count": 30,
     "metadata": {},
     "output_type": "execute_result"
    }
   ],
   "source": [
    "tweets[tweets[\"label\"].isnull()][\"label\"].count()"
   ]
  },
  {
   "cell_type": "code",
   "execution_count": 128,
   "metadata": {},
   "outputs": [],
   "source": [
    "# tweets_categorical = pd.get_dummies(tweets, columns=[\"label\"])"
   ]
  },
  {
   "cell_type": "code",
   "execution_count": 129,
   "metadata": {},
   "outputs": [
    {
     "data": {
      "text/html": [
       "<div>\n",
       "<style scoped>\n",
       "    .dataframe tbody tr th:only-of-type {\n",
       "        vertical-align: middle;\n",
       "    }\n",
       "\n",
       "    .dataframe tbody tr th {\n",
       "        vertical-align: top;\n",
       "    }\n",
       "\n",
       "    .dataframe thead th {\n",
       "        text-align: right;\n",
       "    }\n",
       "</style>\n",
       "<table border=\"1\" class=\"dataframe\">\n",
       "  <thead>\n",
       "    <tr style=\"text-align: right;\">\n",
       "      <th></th>\n",
       "      <th>id</th>\n",
       "      <th>conversation_id</th>\n",
       "      <th>created_at</th>\n",
       "      <th>date</th>\n",
       "      <th>timezone</th>\n",
       "      <th>place</th>\n",
       "      <th>tweet</th>\n",
       "      <th>language</th>\n",
       "      <th>hashtags</th>\n",
       "      <th>cashtags</th>\n",
       "      <th>...</th>\n",
       "      <th>reply_to</th>\n",
       "      <th>retweet_date</th>\n",
       "      <th>translate</th>\n",
       "      <th>trans_src</th>\n",
       "      <th>trans_dest</th>\n",
       "      <th>categorias_2</th>\n",
       "      <th>categorias_very_unpopular</th>\n",
       "      <th>categorias_unpopular</th>\n",
       "      <th>categorias_popular</th>\n",
       "      <th>categorias_very_popular</th>\n",
       "    </tr>\n",
       "  </thead>\n",
       "  <tbody>\n",
       "    <tr>\n",
       "      <th>0</th>\n",
       "      <td>1425590913959612419</td>\n",
       "      <td>1425590913959612419</td>\n",
       "      <td>1628722334000.00</td>\n",
       "      <td>2021-08-12 00:52:14</td>\n",
       "      <td>200</td>\n",
       "      <td>NaN</td>\n",
       "      <td>RT @girlsalliance: We're so proud of the four ...</td>\n",
       "      <td>en</td>\n",
       "      <td>[]</td>\n",
       "      <td>[]</td>\n",
       "      <td>...</td>\n",
       "      <td>[]</td>\n",
       "      <td>2021-08-12 00:46:58 CEST</td>\n",
       "      <td>NaN</td>\n",
       "      <td>NaN</td>\n",
       "      <td>NaN</td>\n",
       "      <td>(104.0, 311.0]</td>\n",
       "      <td>0</td>\n",
       "      <td>1</td>\n",
       "      <td>0</td>\n",
       "      <td>0</td>\n",
       "    </tr>\n",
       "    <tr>\n",
       "      <th>1</th>\n",
       "      <td>1427736867739299841</td>\n",
       "      <td>1427736867739299841</td>\n",
       "      <td>1629233969000.00</td>\n",
       "      <td>2021-08-17 22:59:29</td>\n",
       "      <td>200</td>\n",
       "      <td>NaN</td>\n",
       "      <td>Some casual suggestions to 😏SLIDE😏 into when u...</td>\n",
       "      <td>en</td>\n",
       "      <td>['shoesdaytuesday', 'afterskewlslide']</td>\n",
       "      <td>[]</td>\n",
       "      <td>...</td>\n",
       "      <td>[]</td>\n",
       "      <td>NaN</td>\n",
       "      <td>NaN</td>\n",
       "      <td>NaN</td>\n",
       "      <td>NaN</td>\n",
       "      <td>(311.0, 871.0]</td>\n",
       "      <td>0</td>\n",
       "      <td>0</td>\n",
       "      <td>1</td>\n",
       "      <td>0</td>\n",
       "    </tr>\n",
       "    <tr>\n",
       "      <th>2</th>\n",
       "      <td>1427667300488937476</td>\n",
       "      <td>1427667300488937476</td>\n",
       "      <td>1629217383000.00</td>\n",
       "      <td>2021-08-17 18:23:03</td>\n",
       "      <td>200</td>\n",
       "      <td>NaN</td>\n",
       "      <td>RT @ValaAfshar: You are not your job.</td>\n",
       "      <td>en</td>\n",
       "      <td>[]</td>\n",
       "      <td>[]</td>\n",
       "      <td>...</td>\n",
       "      <td>[]</td>\n",
       "      <td>2021-08-17 17:05:53 CEST</td>\n",
       "      <td>NaN</td>\n",
       "      <td>NaN</td>\n",
       "      <td>NaN</td>\n",
       "      <td>(311.0, 871.0]</td>\n",
       "      <td>0</td>\n",
       "      <td>0</td>\n",
       "      <td>1</td>\n",
       "      <td>0</td>\n",
       "    </tr>\n",
       "    <tr>\n",
       "      <th>3</th>\n",
       "      <td>1427667012105371652</td>\n",
       "      <td>1427667012105371652</td>\n",
       "      <td>1629217315000.00</td>\n",
       "      <td>2021-08-17 18:21:55</td>\n",
       "      <td>200</td>\n",
       "      <td>NaN</td>\n",
       "      <td>What have we become 😔😂  Toddler Cites Freedom ...</td>\n",
       "      <td>en</td>\n",
       "      <td>[]</td>\n",
       "      <td>[]</td>\n",
       "      <td>...</td>\n",
       "      <td>[]</td>\n",
       "      <td>NaN</td>\n",
       "      <td>NaN</td>\n",
       "      <td>NaN</td>\n",
       "      <td>NaN</td>\n",
       "      <td>(311.0, 871.0]</td>\n",
       "      <td>0</td>\n",
       "      <td>0</td>\n",
       "      <td>1</td>\n",
       "      <td>0</td>\n",
       "    </tr>\n",
       "    <tr>\n",
       "      <th>4</th>\n",
       "      <td>1427497703596990467</td>\n",
       "      <td>1427497703596990467</td>\n",
       "      <td>1629176948000.00</td>\n",
       "      <td>2021-08-17 07:09:08</td>\n",
       "      <td>200</td>\n",
       "      <td>NaN</td>\n",
       "      <td>The tech giants that refuse to massively addre...</td>\n",
       "      <td>en</td>\n",
       "      <td>[]</td>\n",
       "      <td>[]</td>\n",
       "      <td>...</td>\n",
       "      <td>[]</td>\n",
       "      <td>NaN</td>\n",
       "      <td>NaN</td>\n",
       "      <td>NaN</td>\n",
       "      <td>NaN</td>\n",
       "      <td>(871.0, 541964.0]</td>\n",
       "      <td>0</td>\n",
       "      <td>0</td>\n",
       "      <td>0</td>\n",
       "      <td>1</td>\n",
       "    </tr>\n",
       "  </tbody>\n",
       "</table>\n",
       "<p>5 rows × 43 columns</p>\n",
       "</div>"
      ],
      "text/plain": [
       "                    id      conversation_id       created_at  \\\n",
       "0  1425590913959612419  1425590913959612419 1628722334000.00   \n",
       "1  1427736867739299841  1427736867739299841 1629233969000.00   \n",
       "2  1427667300488937476  1427667300488937476 1629217383000.00   \n",
       "3  1427667012105371652  1427667012105371652 1629217315000.00   \n",
       "4  1427497703596990467  1427497703596990467 1629176948000.00   \n",
       "\n",
       "                  date  timezone place  \\\n",
       "0  2021-08-12 00:52:14       200   NaN   \n",
       "1  2021-08-17 22:59:29       200   NaN   \n",
       "2  2021-08-17 18:23:03       200   NaN   \n",
       "3  2021-08-17 18:21:55       200   NaN   \n",
       "4  2021-08-17 07:09:08       200   NaN   \n",
       "\n",
       "                                               tweet language  \\\n",
       "0  RT @girlsalliance: We're so proud of the four ...       en   \n",
       "1  Some casual suggestions to 😏SLIDE😏 into when u...       en   \n",
       "2              RT @ValaAfshar: You are not your job.       en   \n",
       "3  What have we become 😔😂  Toddler Cites Freedom ...       en   \n",
       "4  The tech giants that refuse to massively addre...       en   \n",
       "\n",
       "                                 hashtags cashtags  ...  reply_to  \\\n",
       "0                                      []       []  ...        []   \n",
       "1  ['shoesdaytuesday', 'afterskewlslide']       []  ...        []   \n",
       "2                                      []       []  ...        []   \n",
       "3                                      []       []  ...        []   \n",
       "4                                      []       []  ...        []   \n",
       "\n",
       "               retweet_date translate trans_src  trans_dest  \\\n",
       "0  2021-08-12 00:46:58 CEST       NaN       NaN         NaN   \n",
       "1                       NaN       NaN       NaN         NaN   \n",
       "2  2021-08-17 17:05:53 CEST       NaN       NaN         NaN   \n",
       "3                       NaN       NaN       NaN         NaN   \n",
       "4                       NaN       NaN       NaN         NaN   \n",
       "\n",
       "        categorias_2 categorias_very_unpopular categorias_unpopular  \\\n",
       "0     (104.0, 311.0]                         0                    1   \n",
       "1     (311.0, 871.0]                         0                    0   \n",
       "2     (311.0, 871.0]                         0                    0   \n",
       "3     (311.0, 871.0]                         0                    0   \n",
       "4  (871.0, 541964.0]                         0                    0   \n",
       "\n",
       "  categorias_popular  categorias_very_popular  \n",
       "0                  0                        0  \n",
       "1                  1                        0  \n",
       "2                  1                        0  \n",
       "3                  1                        0  \n",
       "4                  0                        1  \n",
       "\n",
       "[5 rows x 43 columns]"
      ]
     },
     "execution_count": 129,
     "metadata": {},
     "output_type": "execute_result"
    }
   ],
   "source": [
    "# tweets_categorical.head()"
   ]
  },
  {
   "cell_type": "code",
   "execution_count": 45,
   "metadata": {},
   "outputs": [
    {
     "name": "stdout",
     "output_type": "stream",
     "text": [
      "0\n"
     ]
    }
   ],
   "source": [
    "print(tweets[tweets[\"label\"].isnull()][\"label\"].count())"
   ]
  }
 ],
 "metadata": {
  "interpreter": {
   "hash": "7eafb698222e0ee7bfbc898e0da8391238ce73a0bc4ad3e20f3708b8771ba4ae"
  },
  "kernelspec": {
   "display_name": "Python 3.8.10 ('twai': venv)",
   "language": "python",
   "name": "python3"
  },
  "language_info": {
   "codemirror_mode": {
    "name": "ipython",
    "version": 3
   },
   "file_extension": ".py",
   "mimetype": "text/x-python",
   "name": "python",
   "nbconvert_exporter": "python",
   "pygments_lexer": "ipython3",
   "version": "3.8.10"
  },
  "orig_nbformat": 4
 },
 "nbformat": 4,
 "nbformat_minor": 2
}
