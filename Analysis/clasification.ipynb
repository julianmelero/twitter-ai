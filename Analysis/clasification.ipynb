{
 "cells": [
  {
   "cell_type": "code",
   "execution_count": 186,
   "metadata": {},
   "outputs": [],
   "source": [
    "import pandas as pd\n",
    "import matplotlib.pyplot as plt\n",
    "import seaborn as sns\n",
    "from sklearn.preprocessing import OneHotEncoder\n",
    "import tensorflow as tf\n",
    "from keras.models import Sequential\n",
    "from keras.layers import Dense"
   ]
  },
  {
   "cell_type": "code",
   "execution_count": 187,
   "metadata": {},
   "outputs": [],
   "source": [
    "headers = pd.read_csv('../Data/handles-data.csv')\n",
    "tweets = pd.read_csv('../Data/tweets-data.csv')\n",
    "pd.options.display.float_format = '{:.2f}'.format"
   ]
  },
  {
   "cell_type": "code",
   "execution_count": 188,
   "metadata": {},
   "outputs": [
    {
     "data": {
      "text/plain": [
       "0"
      ]
     },
     "execution_count": 188,
     "metadata": {},
     "output_type": "execute_result"
    }
   ],
   "source": [
    "tweets[\"nretweets\"].isnull().sum()"
   ]
  },
  {
   "cell_type": "code",
   "execution_count": 189,
   "metadata": {},
   "outputs": [
    {
     "data": {
      "text/plain": [
       "0.70       49.00\n",
       "0.80      104.00\n",
       "0.90      311.00\n",
       "0.95      871.00\n",
       "1.00   541964.00\n",
       "Name: nretweets, dtype: float64"
      ]
     },
     "execution_count": 189,
     "metadata": {},
     "output_type": "execute_result"
    }
   ],
   "source": [
    "tweets[\"nretweets\"].quantile([0.7,0.8,0.90,0.95,1])"
   ]
  },
  {
   "cell_type": "markdown",
   "metadata": {},
   "source": [
    "Establezco todos los tweets como poco populares de entrada, así si exiten nulos estos estarán como \"poco populares\". De esta forma, aquellos tweets que están por debajo o igual al percentil 80 serán como poco populares."
   ]
  },
  {
   "cell_type": "code",
   "execution_count": 190,
   "metadata": {},
   "outputs": [],
   "source": [
    "tweets[\"categorias\"] = pd.qcut(tweets[\"nretweets\"], [0,0.8,0.90,0.95,1], labels=[\"very_low_popular\", \"low_popular\",\"some_popular\", \"very_popular\"])"
   ]
  },
  {
   "cell_type": "code",
   "execution_count": 191,
   "metadata": {},
   "outputs": [],
   "source": [
    "tweets[\"categorias\"][tweets[\"categorias\"].isnull()] = \"very_low_popular\""
   ]
  },
  {
   "cell_type": "code",
   "execution_count": 192,
   "metadata": {},
   "outputs": [
    {
     "data": {
      "text/plain": [
       "0          low_popular\n",
       "1         some_popular\n",
       "2         some_popular\n",
       "3         some_popular\n",
       "4         very_popular\n",
       "5         some_popular\n",
       "6         very_popular\n",
       "7     very_low_popular\n",
       "8         very_popular\n",
       "9          low_popular\n",
       "10         low_popular\n",
       "11        some_popular\n",
       "12        very_popular\n",
       "13        very_popular\n",
       "14        very_popular\n",
       "15         low_popular\n",
       "16        very_popular\n",
       "17        very_popular\n",
       "18         low_popular\n",
       "19        very_popular\n",
       "20        very_popular\n",
       "21        very_popular\n",
       "22        very_popular\n",
       "23        very_popular\n",
       "24        very_popular\n",
       "25        very_popular\n",
       "26        very_popular\n",
       "27        very_popular\n",
       "28        very_popular\n",
       "29        very_popular\n",
       "30        very_popular\n",
       "31        very_popular\n",
       "32        very_popular\n",
       "33    very_low_popular\n",
       "34    very_low_popular\n",
       "35         low_popular\n",
       "36    very_low_popular\n",
       "37    very_low_popular\n",
       "38    very_low_popular\n",
       "39    very_low_popular\n",
       "40    very_low_popular\n",
       "41    very_low_popular\n",
       "42    very_low_popular\n",
       "43    very_low_popular\n",
       "44    very_low_popular\n",
       "45    very_low_popular\n",
       "46    very_low_popular\n",
       "47    very_low_popular\n",
       "48         low_popular\n",
       "49    very_low_popular\n",
       "Name: categorias, dtype: category\n",
       "Categories (4, object): ['very_low_popular' < 'low_popular' < 'some_popular' < 'very_popular']"
      ]
     },
     "execution_count": 192,
     "metadata": {},
     "output_type": "execute_result"
    }
   ],
   "source": [
    "tweets[\"categorias\"].head(50)"
   ]
  },
  {
   "cell_type": "code",
   "execution_count": 193,
   "metadata": {},
   "outputs": [
    {
     "data": {
      "text/plain": [
       "2029"
      ]
     },
     "execution_count": 193,
     "metadata": {},
     "output_type": "execute_result"
    }
   ],
   "source": [
    "tweets[tweets[\"nretweets\"]>871][\"nretweets\"].count()"
   ]
  },
  {
   "cell_type": "code",
   "execution_count": 194,
   "metadata": {},
   "outputs": [
    {
     "data": {
      "text/plain": [
       "2029"
      ]
     },
     "execution_count": 194,
     "metadata": {},
     "output_type": "execute_result"
    }
   ],
   "source": [
    "tweets[tweets[\"categorias\"]==\"very_popular\"][\"categorias\"].count()"
   ]
  },
  {
   "cell_type": "code",
   "execution_count": 195,
   "metadata": {},
   "outputs": [
    {
     "data": {
      "text/plain": [
       "32523"
      ]
     },
     "execution_count": 195,
     "metadata": {},
     "output_type": "execute_result"
    }
   ],
   "source": [
    "tweets[tweets[\"nretweets\"]<=104][\"nretweets\"].count()"
   ]
  },
  {
   "cell_type": "code",
   "execution_count": 196,
   "metadata": {},
   "outputs": [
    {
     "data": {
      "text/plain": [
       "32523"
      ]
     },
     "execution_count": 196,
     "metadata": {},
     "output_type": "execute_result"
    }
   ],
   "source": [
    "tweets[tweets[\"categorias\"]==\"very_low_popular\"][\"categorias\"].count()"
   ]
  },
  {
   "cell_type": "code",
   "execution_count": 197,
   "metadata": {},
   "outputs": [
    {
     "data": {
      "text/plain": [
       "0"
      ]
     },
     "execution_count": 197,
     "metadata": {},
     "output_type": "execute_result"
    }
   ],
   "source": [
    "tweets[tweets[\"categorias\"].isnull()][\"categorias\"].count()"
   ]
  },
  {
   "cell_type": "code",
   "execution_count": 198,
   "metadata": {},
   "outputs": [],
   "source": [
    "tweets_label_categorical = pd.get_dummies(tweets, columns=[\"categorias\"])"
   ]
  },
  {
   "cell_type": "code",
   "execution_count": 199,
   "metadata": {},
   "outputs": [
    {
     "data": {
      "text/plain": [
       "0        0\n",
       "1        0\n",
       "2        0\n",
       "3        0\n",
       "4        0\n",
       "        ..\n",
       "40576    0\n",
       "40577    1\n",
       "40578    1\n",
       "40579    0\n",
       "40580    0\n",
       "Name: categorias_very_low_popular, Length: 40581, dtype: uint8"
      ]
     },
     "execution_count": 199,
     "metadata": {},
     "output_type": "execute_result"
    }
   ],
   "source": [
    "tweets_label_categorical[\"categorias_very_low_popular\"]"
   ]
  },
  {
   "cell_type": "code",
   "execution_count": 200,
   "metadata": {},
   "outputs": [
    {
     "data": {
      "text/plain": [
       "0"
      ]
     },
     "execution_count": 200,
     "metadata": {},
     "output_type": "execute_result"
    }
   ],
   "source": [
    "tweets_label_categorical[tweets_label_categorical[\"categorias_very_low_popular\"]<0][\"categorias_very_low_popular\"].count()"
   ]
  },
  {
   "cell_type": "code",
   "execution_count": 201,
   "metadata": {},
   "outputs": [
    {
     "name": "stdout",
     "output_type": "stream",
     "text": [
      "0\n",
      "0\n",
      "0\n",
      "0\n"
     ]
    }
   ],
   "source": [
    "print(tweets_label_categorical[tweets_label_categorical[\"categorias_very_low_popular\"].isnull()][\"categorias_very_low_popular\"].count())\n",
    "print(tweets_label_categorical[tweets_label_categorical[\"categorias_low_popular\"].isnull()][\"categorias_very_low_popular\"].count())\n",
    "print(tweets_label_categorical[tweets_label_categorical[\"categorias_some_popular\"].isnull()][\"categorias_very_low_popular\"].count())\n",
    "print(tweets_label_categorical[tweets_label_categorical[\"categorias_very_popular\"].isnull()][\"categorias_very_low_popular\"].count())"
   ]
  }
 ],
 "metadata": {
  "interpreter": {
   "hash": "7eafb698222e0ee7bfbc898e0da8391238ce73a0bc4ad3e20f3708b8771ba4ae"
  },
  "kernelspec": {
   "display_name": "Python 3.8.10 ('twai': venv)",
   "language": "python",
   "name": "python3"
  },
  "language_info": {
   "codemirror_mode": {
    "name": "ipython",
    "version": 3
   },
   "file_extension": ".py",
   "mimetype": "text/x-python",
   "name": "python",
   "nbconvert_exporter": "python",
   "pygments_lexer": "ipython3",
   "version": "3.8.10"
  },
  "orig_nbformat": 4
 },
 "nbformat": 4,
 "nbformat_minor": 2
}
