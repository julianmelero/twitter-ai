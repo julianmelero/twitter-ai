{
 "cells": [
  {
   "cell_type": "code",
   "execution_count": 239,
   "metadata": {},
   "outputs": [],
   "source": [
    "import pandas as pd\n",
    "import matplotlib.pyplot as plt\n",
    "import seaborn as sns\n",
    "from sklearn.preprocessing import OneHotEncoder\n",
    "from sklearn.model_selection import train_test_split\n",
    "import tensorflow as tf\n",
    "from keras.models import Sequential\n",
    "from keras.layers import Dense"
   ]
  },
  {
   "cell_type": "code",
   "execution_count": 241,
   "metadata": {},
   "outputs": [
    {
     "name": "stderr",
     "output_type": "stream",
     "text": [
      "/home/julianmelero/twitter-ai/twai/lib/python3.8/site-packages/IPython/core/interactiveshell.py:3457: DtypeWarning: Columns (5) have mixed types.Specify dtype option on import or set low_memory=False.\n",
      "  exec(code_obj, self.user_global_ns, self.user_ns)\n"
     ]
    }
   ],
   "source": [
    "headers = pd.read_csv('../Data/handles-data.csv')\n",
    "tweets = pd.read_csv('../Data/tweets-data.csv')\n",
    "pd.options.display.float_format = '{:.2f}'.format"
   ]
  },
  {
   "cell_type": "code",
   "execution_count": 217,
   "metadata": {},
   "outputs": [
    {
     "data": {
      "text/plain": [
       "0"
      ]
     },
     "execution_count": 217,
     "metadata": {},
     "output_type": "execute_result"
    }
   ],
   "source": [
    "tweets[\"nretweets\"].isnull().sum()"
   ]
  },
  {
   "cell_type": "code",
   "execution_count": 233,
   "metadata": {},
   "outputs": [
    {
     "data": {
      "text/plain": [
       "0.70       49.00\n",
       "0.80      104.00\n",
       "0.90      311.00\n",
       "0.95      871.00\n",
       "1.00   541964.00\n",
       "Name: nretweets, dtype: float64"
      ]
     },
     "execution_count": 233,
     "metadata": {},
     "output_type": "execute_result"
    }
   ],
   "source": [
    "tweets[\"nretweets\"].quantile([0.7,0.8,0.90,0.95,1])"
   ]
  },
  {
   "cell_type": "code",
   "execution_count": 240,
   "metadata": {},
   "outputs": [],
   "source": [
    "def pipeline_qcut_label(dataset):\n",
    "    dataset[\"categorias\"] = pd.qcut(dataset[\"nretweets\"], [0,0.8,0.90,0.95,1], labels=[\"very_unpopular\", \"unpopular\",\"popular\", \"very_popular\"])\n",
    "    dataset[\"categorias\"][dataset[\"categorias\"].isnull()] = \"very_unpopular\"\n",
    "    return pd.get_dummies(tweets, columns=[\"categorias\"])"
   ]
  },
  {
   "cell_type": "code",
   "execution_count": 242,
   "metadata": {},
   "outputs": [],
   "source": [
    "tweets_label_categorical = pipeline_qcut_label(tweets)"
   ]
  },
  {
   "cell_type": "markdown",
   "metadata": {},
   "source": [
    "Establezco todos los tweets como poco populares de entrada, así si exiten nulos estos estarán como \"poco populares\". De esta forma, aquellos tweets que están por debajo o igual al percentil 80 serán como poco populares."
   ]
  },
  {
   "cell_type": "code",
   "execution_count": 219,
   "metadata": {},
   "outputs": [],
   "source": [
    "tweets[\"categorias\"] = pd.qcut(tweets[\"nretweets\"], [0,0.8,0.90,0.95,1], labels=[\"very_unpopular\", \"unpopular\",\"popular\", \"very_popular\"])"
   ]
  },
  {
   "cell_type": "code",
   "execution_count": 220,
   "metadata": {},
   "outputs": [],
   "source": [
    "tweets[\"categorias\"][tweets[\"categorias\"].isnull()] = \"very_unpopular\""
   ]
  },
  {
   "cell_type": "code",
   "execution_count": 221,
   "metadata": {},
   "outputs": [
    {
     "data": {
      "text/plain": [
       "0          unpopular\n",
       "1            popular\n",
       "2            popular\n",
       "3            popular\n",
       "4       very_popular\n",
       "5            popular\n",
       "6       very_popular\n",
       "7     very_unpopular\n",
       "8       very_popular\n",
       "9          unpopular\n",
       "10         unpopular\n",
       "11           popular\n",
       "12      very_popular\n",
       "13      very_popular\n",
       "14      very_popular\n",
       "15         unpopular\n",
       "16      very_popular\n",
       "17      very_popular\n",
       "18         unpopular\n",
       "19      very_popular\n",
       "20      very_popular\n",
       "21      very_popular\n",
       "22      very_popular\n",
       "23      very_popular\n",
       "24      very_popular\n",
       "25      very_popular\n",
       "26      very_popular\n",
       "27      very_popular\n",
       "28      very_popular\n",
       "29      very_popular\n",
       "30      very_popular\n",
       "31      very_popular\n",
       "32      very_popular\n",
       "33    very_unpopular\n",
       "34    very_unpopular\n",
       "35         unpopular\n",
       "36    very_unpopular\n",
       "37    very_unpopular\n",
       "38    very_unpopular\n",
       "39    very_unpopular\n",
       "40    very_unpopular\n",
       "41    very_unpopular\n",
       "42    very_unpopular\n",
       "43    very_unpopular\n",
       "44    very_unpopular\n",
       "45    very_unpopular\n",
       "46    very_unpopular\n",
       "47    very_unpopular\n",
       "48         unpopular\n",
       "49    very_unpopular\n",
       "Name: categorias, dtype: category\n",
       "Categories (4, object): ['very_unpopular' < 'unpopular' < 'popular' < 'very_popular']"
      ]
     },
     "execution_count": 221,
     "metadata": {},
     "output_type": "execute_result"
    }
   ],
   "source": [
    "tweets[\"categorias\"].head(50)"
   ]
  },
  {
   "cell_type": "code",
   "execution_count": 222,
   "metadata": {},
   "outputs": [
    {
     "data": {
      "text/plain": [
       "2029"
      ]
     },
     "execution_count": 222,
     "metadata": {},
     "output_type": "execute_result"
    }
   ],
   "source": [
    "tweets[tweets[\"nretweets\"]>871][\"nretweets\"].count()"
   ]
  },
  {
   "cell_type": "code",
   "execution_count": 223,
   "metadata": {},
   "outputs": [
    {
     "data": {
      "text/plain": [
       "2029"
      ]
     },
     "execution_count": 223,
     "metadata": {},
     "output_type": "execute_result"
    }
   ],
   "source": [
    "tweets[tweets[\"categorias\"]==\"very_popular\"][\"categorias\"].count()"
   ]
  },
  {
   "cell_type": "code",
   "execution_count": 224,
   "metadata": {},
   "outputs": [
    {
     "data": {
      "text/plain": [
       "32523"
      ]
     },
     "execution_count": 224,
     "metadata": {},
     "output_type": "execute_result"
    }
   ],
   "source": [
    "tweets[tweets[\"nretweets\"]<=104][\"nretweets\"].count()"
   ]
  },
  {
   "cell_type": "code",
   "execution_count": 225,
   "metadata": {},
   "outputs": [
    {
     "data": {
      "text/plain": [
       "32523"
      ]
     },
     "execution_count": 225,
     "metadata": {},
     "output_type": "execute_result"
    }
   ],
   "source": [
    "tweets[tweets[\"categorias\"]==\"very_unpopular\"][\"categorias\"].count()"
   ]
  },
  {
   "cell_type": "code",
   "execution_count": 226,
   "metadata": {},
   "outputs": [
    {
     "data": {
      "text/plain": [
       "0"
      ]
     },
     "execution_count": 226,
     "metadata": {},
     "output_type": "execute_result"
    }
   ],
   "source": [
    "tweets[tweets[\"categorias\"].isnull()][\"categorias\"].count()"
   ]
  },
  {
   "cell_type": "code",
   "execution_count": 227,
   "metadata": {},
   "outputs": [],
   "source": [
    "tweets_label_categorical = pd.get_dummies(tweets, columns=[\"categorias\"])"
   ]
  },
  {
   "cell_type": "code",
   "execution_count": 243,
   "metadata": {},
   "outputs": [
    {
     "data": {
      "text/html": [
       "<div>\n",
       "<style scoped>\n",
       "    .dataframe tbody tr th:only-of-type {\n",
       "        vertical-align: middle;\n",
       "    }\n",
       "\n",
       "    .dataframe tbody tr th {\n",
       "        vertical-align: top;\n",
       "    }\n",
       "\n",
       "    .dataframe thead th {\n",
       "        text-align: right;\n",
       "    }\n",
       "</style>\n",
       "<table border=\"1\" class=\"dataframe\">\n",
       "  <thead>\n",
       "    <tr style=\"text-align: right;\">\n",
       "      <th></th>\n",
       "      <th>id</th>\n",
       "      <th>conversation_id</th>\n",
       "      <th>created_at</th>\n",
       "      <th>date</th>\n",
       "      <th>timezone</th>\n",
       "      <th>place</th>\n",
       "      <th>tweet</th>\n",
       "      <th>language</th>\n",
       "      <th>hashtags</th>\n",
       "      <th>cashtags</th>\n",
       "      <th>...</th>\n",
       "      <th>retweet_id</th>\n",
       "      <th>reply_to</th>\n",
       "      <th>retweet_date</th>\n",
       "      <th>translate</th>\n",
       "      <th>trans_src</th>\n",
       "      <th>trans_dest</th>\n",
       "      <th>categorias_very_unpopular</th>\n",
       "      <th>categorias_unpopular</th>\n",
       "      <th>categorias_popular</th>\n",
       "      <th>categorias_very_popular</th>\n",
       "    </tr>\n",
       "  </thead>\n",
       "  <tbody>\n",
       "    <tr>\n",
       "      <th>0</th>\n",
       "      <td>1425590913959612419</td>\n",
       "      <td>1425590913959612419</td>\n",
       "      <td>1628722334000.00</td>\n",
       "      <td>2021-08-12 00:52:14</td>\n",
       "      <td>200</td>\n",
       "      <td>NaN</td>\n",
       "      <td>RT @girlsalliance: We're so proud of the four ...</td>\n",
       "      <td>en</td>\n",
       "      <td>[]</td>\n",
       "      <td>[]</td>\n",
       "      <td>...</td>\n",
       "      <td>1425589589272678400.00</td>\n",
       "      <td>[]</td>\n",
       "      <td>2021-08-12 00:46:58 CEST</td>\n",
       "      <td>NaN</td>\n",
       "      <td>NaN</td>\n",
       "      <td>NaN</td>\n",
       "      <td>0</td>\n",
       "      <td>1</td>\n",
       "      <td>0</td>\n",
       "      <td>0</td>\n",
       "    </tr>\n",
       "    <tr>\n",
       "      <th>1</th>\n",
       "      <td>1427736867739299841</td>\n",
       "      <td>1427736867739299841</td>\n",
       "      <td>1629233969000.00</td>\n",
       "      <td>2021-08-17 22:59:29</td>\n",
       "      <td>200</td>\n",
       "      <td>NaN</td>\n",
       "      <td>Some casual suggestions to 😏SLIDE😏 into when u...</td>\n",
       "      <td>en</td>\n",
       "      <td>['shoesdaytuesday', 'afterskewlslide']</td>\n",
       "      <td>[]</td>\n",
       "      <td>...</td>\n",
       "      <td>NaN</td>\n",
       "      <td>[]</td>\n",
       "      <td>NaN</td>\n",
       "      <td>NaN</td>\n",
       "      <td>NaN</td>\n",
       "      <td>NaN</td>\n",
       "      <td>0</td>\n",
       "      <td>0</td>\n",
       "      <td>1</td>\n",
       "      <td>0</td>\n",
       "    </tr>\n",
       "    <tr>\n",
       "      <th>2</th>\n",
       "      <td>1427667300488937476</td>\n",
       "      <td>1427667300488937476</td>\n",
       "      <td>1629217383000.00</td>\n",
       "      <td>2021-08-17 18:23:03</td>\n",
       "      <td>200</td>\n",
       "      <td>NaN</td>\n",
       "      <td>RT @ValaAfshar: You are not your job.</td>\n",
       "      <td>en</td>\n",
       "      <td>[]</td>\n",
       "      <td>[]</td>\n",
       "      <td>...</td>\n",
       "      <td>1427647879246667776.00</td>\n",
       "      <td>[]</td>\n",
       "      <td>2021-08-17 17:05:53 CEST</td>\n",
       "      <td>NaN</td>\n",
       "      <td>NaN</td>\n",
       "      <td>NaN</td>\n",
       "      <td>0</td>\n",
       "      <td>0</td>\n",
       "      <td>1</td>\n",
       "      <td>0</td>\n",
       "    </tr>\n",
       "    <tr>\n",
       "      <th>3</th>\n",
       "      <td>1427667012105371652</td>\n",
       "      <td>1427667012105371652</td>\n",
       "      <td>1629217315000.00</td>\n",
       "      <td>2021-08-17 18:21:55</td>\n",
       "      <td>200</td>\n",
       "      <td>NaN</td>\n",
       "      <td>What have we become 😔😂  Toddler Cites Freedom ...</td>\n",
       "      <td>en</td>\n",
       "      <td>[]</td>\n",
       "      <td>[]</td>\n",
       "      <td>...</td>\n",
       "      <td>NaN</td>\n",
       "      <td>[]</td>\n",
       "      <td>NaN</td>\n",
       "      <td>NaN</td>\n",
       "      <td>NaN</td>\n",
       "      <td>NaN</td>\n",
       "      <td>0</td>\n",
       "      <td>0</td>\n",
       "      <td>1</td>\n",
       "      <td>0</td>\n",
       "    </tr>\n",
       "    <tr>\n",
       "      <th>4</th>\n",
       "      <td>1427497703596990467</td>\n",
       "      <td>1427497703596990467</td>\n",
       "      <td>1629176948000.00</td>\n",
       "      <td>2021-08-17 07:09:08</td>\n",
       "      <td>200</td>\n",
       "      <td>NaN</td>\n",
       "      <td>The tech giants that refuse to massively addre...</td>\n",
       "      <td>en</td>\n",
       "      <td>[]</td>\n",
       "      <td>[]</td>\n",
       "      <td>...</td>\n",
       "      <td>NaN</td>\n",
       "      <td>[]</td>\n",
       "      <td>NaN</td>\n",
       "      <td>NaN</td>\n",
       "      <td>NaN</td>\n",
       "      <td>NaN</td>\n",
       "      <td>0</td>\n",
       "      <td>0</td>\n",
       "      <td>0</td>\n",
       "      <td>1</td>\n",
       "    </tr>\n",
       "  </tbody>\n",
       "</table>\n",
       "<p>5 rows × 42 columns</p>\n",
       "</div>"
      ],
      "text/plain": [
       "                    id      conversation_id       created_at  \\\n",
       "0  1425590913959612419  1425590913959612419 1628722334000.00   \n",
       "1  1427736867739299841  1427736867739299841 1629233969000.00   \n",
       "2  1427667300488937476  1427667300488937476 1629217383000.00   \n",
       "3  1427667012105371652  1427667012105371652 1629217315000.00   \n",
       "4  1427497703596990467  1427497703596990467 1629176948000.00   \n",
       "\n",
       "                  date  timezone place  \\\n",
       "0  2021-08-12 00:52:14       200   NaN   \n",
       "1  2021-08-17 22:59:29       200   NaN   \n",
       "2  2021-08-17 18:23:03       200   NaN   \n",
       "3  2021-08-17 18:21:55       200   NaN   \n",
       "4  2021-08-17 07:09:08       200   NaN   \n",
       "\n",
       "                                               tweet language  \\\n",
       "0  RT @girlsalliance: We're so proud of the four ...       en   \n",
       "1  Some casual suggestions to 😏SLIDE😏 into when u...       en   \n",
       "2              RT @ValaAfshar: You are not your job.       en   \n",
       "3  What have we become 😔😂  Toddler Cites Freedom ...       en   \n",
       "4  The tech giants that refuse to massively addre...       en   \n",
       "\n",
       "                                 hashtags cashtags  ...  \\\n",
       "0                                      []       []  ...   \n",
       "1  ['shoesdaytuesday', 'afterskewlslide']       []  ...   \n",
       "2                                      []       []  ...   \n",
       "3                                      []       []  ...   \n",
       "4                                      []       []  ...   \n",
       "\n",
       "              retweet_id  reply_to              retweet_date translate  \\\n",
       "0 1425589589272678400.00        []  2021-08-12 00:46:58 CEST       NaN   \n",
       "1                    NaN        []                       NaN       NaN   \n",
       "2 1427647879246667776.00        []  2021-08-17 17:05:53 CEST       NaN   \n",
       "3                    NaN        []                       NaN       NaN   \n",
       "4                    NaN        []                       NaN       NaN   \n",
       "\n",
       "   trans_src  trans_dest categorias_very_unpopular categorias_unpopular  \\\n",
       "0        NaN         NaN                         0                    1   \n",
       "1        NaN         NaN                         0                    0   \n",
       "2        NaN         NaN                         0                    0   \n",
       "3        NaN         NaN                         0                    0   \n",
       "4        NaN         NaN                         0                    0   \n",
       "\n",
       "  categorias_popular  categorias_very_popular  \n",
       "0                  0                        0  \n",
       "1                  1                        0  \n",
       "2                  1                        0  \n",
       "3                  1                        0  \n",
       "4                  0                        1  \n",
       "\n",
       "[5 rows x 42 columns]"
      ]
     },
     "execution_count": 243,
     "metadata": {},
     "output_type": "execute_result"
    }
   ],
   "source": [
    "tweets_label_categorical.head()"
   ]
  },
  {
   "cell_type": "code",
   "execution_count": 228,
   "metadata": {},
   "outputs": [
    {
     "data": {
      "text/plain": [
       "0        0\n",
       "1        0\n",
       "2        0\n",
       "3        0\n",
       "4        0\n",
       "        ..\n",
       "40576    0\n",
       "40577    1\n",
       "40578    1\n",
       "40579    0\n",
       "40580    0\n",
       "Name: categorias_very_unpopular, Length: 40581, dtype: uint8"
      ]
     },
     "execution_count": 228,
     "metadata": {},
     "output_type": "execute_result"
    }
   ],
   "source": [
    "tweets_label_categorical[\"categorias_very_unpopular\"]"
   ]
  },
  {
   "cell_type": "code",
   "execution_count": 245,
   "metadata": {},
   "outputs": [
    {
     "data": {
      "text/plain": [
       "0"
      ]
     },
     "execution_count": 245,
     "metadata": {},
     "output_type": "execute_result"
    }
   ],
   "source": [
    "tweets_label_categorical[tweets_label_categorical[\"categorias_very_unpopular\"]<0][\"categorias_very_unpopular\"].count()"
   ]
  },
  {
   "cell_type": "code",
   "execution_count": 244,
   "metadata": {},
   "outputs": [
    {
     "name": "stdout",
     "output_type": "stream",
     "text": [
      "0\n",
      "0\n",
      "0\n",
      "0\n"
     ]
    }
   ],
   "source": [
    "print(tweets_label_categorical[tweets_label_categorical[\"categorias_very_unpopular\"].isnull()][\"categorias_very_unpopular\"].count())\n",
    "print(tweets_label_categorical[tweets_label_categorical[\"categorias_unpopular\"].isnull()][\"categorias_very_unpopular\"].count())\n",
    "print(tweets_label_categorical[tweets_label_categorical[\"categorias_popular\"].isnull()][\"categorias_popular\"].count())\n",
    "print(tweets_label_categorical[tweets_label_categorical[\"categorias_very_popular\"].isnull()][\"categorias_very_popular\"].count())"
   ]
  }
 ],
 "metadata": {
  "interpreter": {
   "hash": "7eafb698222e0ee7bfbc898e0da8391238ce73a0bc4ad3e20f3708b8771ba4ae"
  },
  "kernelspec": {
   "display_name": "Python 3.8.10 ('twai': venv)",
   "language": "python",
   "name": "python3"
  },
  "language_info": {
   "codemirror_mode": {
    "name": "ipython",
    "version": 3
   },
   "file_extension": ".py",
   "mimetype": "text/x-python",
   "name": "python",
   "nbconvert_exporter": "python",
   "pygments_lexer": "ipython3",
   "version": "3.8.10"
  },
  "orig_nbformat": 4
 },
 "nbformat": 4,
 "nbformat_minor": 2
}
